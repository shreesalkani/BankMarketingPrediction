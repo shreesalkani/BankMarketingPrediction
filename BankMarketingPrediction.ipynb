{
  "cells": [
    {
      "cell_type": "markdown",
      "id": "17fd430d",
      "metadata": {
        "id": "17fd430d"
      },
      "source": [
        "#### *ML Project - Bank Marketing Prediction*"
      ]
    },
    {
      "cell_type": "markdown",
      "id": "774fd2e1",
      "metadata": {
        "id": "774fd2e1"
      },
      "source": [
        "###### *Tasks to perform*\n",
        "\n",
        ">Read in the file and get basic information about the data, including numerical summaries.\n",
        "\n",
        "> Describe the pdays column, make note of the mean, median and minimum values. Anything fishy in the values?\n",
        "\n",
        "> Describe the pdays column again, this time limiting yourself to the relevant values of pdays. How different are the mean and the median values?\n",
        "\n",
        "> Plot a horizontal bar graph with the median values of balance for each education level value. Which group has the highest median?\n",
        "\n",
        "> Make a box plot for pdays. Do you see any outliers?"
      ]
    },
    {
      "cell_type": "code",
      "execution_count": null,
      "id": "35ca3424",
      "metadata": {
        "id": "35ca3424"
      },
      "outputs": [],
      "source": [
        "import numpy as np\n",
        "import pandas as pd\n",
        "import matplotlib.pyplot as plt\n",
        "import seaborn as sns\n",
        "\n",
        "import warnings\n",
        "warnings.filterwarnings('ignore')"
      ]
    },
    {
      "cell_type": "code",
      "execution_count": null,
      "id": "712f8321",
      "metadata": {
        "scrolled": false,
        "colab": {
          "base_uri": "https://localhost:8080/"
        },
        "id": "712f8321",
        "outputId": "1ca6743f-a54c-4217-9984-15f9d47da938"
      },
      "outputs": [
        {
          "output_type": "stream",
          "name": "stdout",
          "text": [
            "Mounted at /content/drive\n"
          ]
        }
      ],
      "source": [
        "from google.colab import drive\n",
        "drive.mount('/content/drive')\n"
      ]
    },
    {
      "cell_type": "code",
      "source": [
        "pd.read_csv('/content/drive/MyDrive/bank marketing prediction/bank-marketing.csv')"
      ],
      "metadata": {
        "colab": {
          "base_uri": "https://localhost:8080/"
        },
        "id": "WHtLq50y7HoG",
        "outputId": "eeb328c7-63f5-48ad-cecf-3c0cd4437bfd"
      },
      "id": "WHtLq50y7HoG",
      "execution_count": null,
      "outputs": [
        {
          "output_type": "execute_result",
          "data": {
            "text/html": [
              "\n",
              "  <div id=\"df-d06bf70f-ff09-4af5-8335-f43d533c3c94\">\n",
              "    <div class=\"colab-df-container\">\n",
              "      <div>\n",
              "<style scoped>\n",
              "    .dataframe tbody tr th:only-of-type {\n",
              "        vertical-align: middle;\n",
              "    }\n",
              "\n",
              "    .dataframe tbody tr th {\n",
              "        vertical-align: top;\n",
              "    }\n",
              "\n",
              "    .dataframe thead th {\n",
              "        text-align: right;\n",
              "    }\n",
              "</style>\n",
              "<table border=\"1\" class=\"dataframe\">\n",
              "  <thead>\n",
              "    <tr style=\"text-align: right;\">\n",
              "      <th></th>\n",
              "      <th>age</th>\n",
              "      <th>job</th>\n",
              "      <th>salary</th>\n",
              "      <th>marital</th>\n",
              "      <th>education</th>\n",
              "      <th>targeted</th>\n",
              "      <th>default</th>\n",
              "      <th>balance</th>\n",
              "      <th>housing</th>\n",
              "      <th>loan</th>\n",
              "      <th>contact</th>\n",
              "      <th>day</th>\n",
              "      <th>month</th>\n",
              "      <th>duration</th>\n",
              "      <th>campaign</th>\n",
              "      <th>pdays</th>\n",
              "      <th>previous</th>\n",
              "      <th>poutcome</th>\n",
              "      <th>response</th>\n",
              "    </tr>\n",
              "  </thead>\n",
              "  <tbody>\n",
              "    <tr>\n",
              "      <th>0</th>\n",
              "      <td>58</td>\n",
              "      <td>management</td>\n",
              "      <td>100000</td>\n",
              "      <td>married</td>\n",
              "      <td>tertiary</td>\n",
              "      <td>yes</td>\n",
              "      <td>no</td>\n",
              "      <td>2143</td>\n",
              "      <td>yes</td>\n",
              "      <td>no</td>\n",
              "      <td>unknown</td>\n",
              "      <td>5</td>\n",
              "      <td>may</td>\n",
              "      <td>261</td>\n",
              "      <td>1</td>\n",
              "      <td>-1</td>\n",
              "      <td>0</td>\n",
              "      <td>unknown</td>\n",
              "      <td>no</td>\n",
              "    </tr>\n",
              "    <tr>\n",
              "      <th>1</th>\n",
              "      <td>44</td>\n",
              "      <td>technician</td>\n",
              "      <td>60000</td>\n",
              "      <td>single</td>\n",
              "      <td>secondary</td>\n",
              "      <td>yes</td>\n",
              "      <td>no</td>\n",
              "      <td>29</td>\n",
              "      <td>yes</td>\n",
              "      <td>no</td>\n",
              "      <td>unknown</td>\n",
              "      <td>5</td>\n",
              "      <td>may</td>\n",
              "      <td>151</td>\n",
              "      <td>1</td>\n",
              "      <td>-1</td>\n",
              "      <td>0</td>\n",
              "      <td>unknown</td>\n",
              "      <td>no</td>\n",
              "    </tr>\n",
              "    <tr>\n",
              "      <th>2</th>\n",
              "      <td>33</td>\n",
              "      <td>entrepreneur</td>\n",
              "      <td>120000</td>\n",
              "      <td>married</td>\n",
              "      <td>secondary</td>\n",
              "      <td>yes</td>\n",
              "      <td>no</td>\n",
              "      <td>2</td>\n",
              "      <td>yes</td>\n",
              "      <td>yes</td>\n",
              "      <td>unknown</td>\n",
              "      <td>5</td>\n",
              "      <td>may</td>\n",
              "      <td>76</td>\n",
              "      <td>1</td>\n",
              "      <td>-1</td>\n",
              "      <td>0</td>\n",
              "      <td>unknown</td>\n",
              "      <td>no</td>\n",
              "    </tr>\n",
              "    <tr>\n",
              "      <th>3</th>\n",
              "      <td>47</td>\n",
              "      <td>blue-collar</td>\n",
              "      <td>20000</td>\n",
              "      <td>married</td>\n",
              "      <td>unknown</td>\n",
              "      <td>no</td>\n",
              "      <td>no</td>\n",
              "      <td>1506</td>\n",
              "      <td>yes</td>\n",
              "      <td>no</td>\n",
              "      <td>unknown</td>\n",
              "      <td>5</td>\n",
              "      <td>may</td>\n",
              "      <td>92</td>\n",
              "      <td>1</td>\n",
              "      <td>-1</td>\n",
              "      <td>0</td>\n",
              "      <td>unknown</td>\n",
              "      <td>no</td>\n",
              "    </tr>\n",
              "    <tr>\n",
              "      <th>4</th>\n",
              "      <td>33</td>\n",
              "      <td>unknown</td>\n",
              "      <td>0</td>\n",
              "      <td>single</td>\n",
              "      <td>unknown</td>\n",
              "      <td>no</td>\n",
              "      <td>no</td>\n",
              "      <td>1</td>\n",
              "      <td>no</td>\n",
              "      <td>no</td>\n",
              "      <td>unknown</td>\n",
              "      <td>5</td>\n",
              "      <td>may</td>\n",
              "      <td>198</td>\n",
              "      <td>1</td>\n",
              "      <td>-1</td>\n",
              "      <td>0</td>\n",
              "      <td>unknown</td>\n",
              "      <td>no</td>\n",
              "    </tr>\n",
              "    <tr>\n",
              "      <th>...</th>\n",
              "      <td>...</td>\n",
              "      <td>...</td>\n",
              "      <td>...</td>\n",
              "      <td>...</td>\n",
              "      <td>...</td>\n",
              "      <td>...</td>\n",
              "      <td>...</td>\n",
              "      <td>...</td>\n",
              "      <td>...</td>\n",
              "      <td>...</td>\n",
              "      <td>...</td>\n",
              "      <td>...</td>\n",
              "      <td>...</td>\n",
              "      <td>...</td>\n",
              "      <td>...</td>\n",
              "      <td>...</td>\n",
              "      <td>...</td>\n",
              "      <td>...</td>\n",
              "      <td>...</td>\n",
              "    </tr>\n",
              "    <tr>\n",
              "      <th>45206</th>\n",
              "      <td>51</td>\n",
              "      <td>technician</td>\n",
              "      <td>60000</td>\n",
              "      <td>married</td>\n",
              "      <td>tertiary</td>\n",
              "      <td>yes</td>\n",
              "      <td>no</td>\n",
              "      <td>825</td>\n",
              "      <td>no</td>\n",
              "      <td>no</td>\n",
              "      <td>cellular</td>\n",
              "      <td>17</td>\n",
              "      <td>nov</td>\n",
              "      <td>977</td>\n",
              "      <td>3</td>\n",
              "      <td>-1</td>\n",
              "      <td>0</td>\n",
              "      <td>unknown</td>\n",
              "      <td>yes</td>\n",
              "    </tr>\n",
              "    <tr>\n",
              "      <th>45207</th>\n",
              "      <td>71</td>\n",
              "      <td>retired</td>\n",
              "      <td>55000</td>\n",
              "      <td>divorced</td>\n",
              "      <td>primary</td>\n",
              "      <td>yes</td>\n",
              "      <td>no</td>\n",
              "      <td>1729</td>\n",
              "      <td>no</td>\n",
              "      <td>no</td>\n",
              "      <td>cellular</td>\n",
              "      <td>17</td>\n",
              "      <td>nov</td>\n",
              "      <td>456</td>\n",
              "      <td>2</td>\n",
              "      <td>-1</td>\n",
              "      <td>0</td>\n",
              "      <td>unknown</td>\n",
              "      <td>yes</td>\n",
              "    </tr>\n",
              "    <tr>\n",
              "      <th>45208</th>\n",
              "      <td>72</td>\n",
              "      <td>retired</td>\n",
              "      <td>55000</td>\n",
              "      <td>married</td>\n",
              "      <td>secondary</td>\n",
              "      <td>yes</td>\n",
              "      <td>no</td>\n",
              "      <td>5715</td>\n",
              "      <td>no</td>\n",
              "      <td>no</td>\n",
              "      <td>cellular</td>\n",
              "      <td>17</td>\n",
              "      <td>nov</td>\n",
              "      <td>1127</td>\n",
              "      <td>5</td>\n",
              "      <td>184</td>\n",
              "      <td>3</td>\n",
              "      <td>success</td>\n",
              "      <td>yes</td>\n",
              "    </tr>\n",
              "    <tr>\n",
              "      <th>45209</th>\n",
              "      <td>57</td>\n",
              "      <td>blue-collar</td>\n",
              "      <td>20000</td>\n",
              "      <td>married</td>\n",
              "      <td>secondary</td>\n",
              "      <td>yes</td>\n",
              "      <td>no</td>\n",
              "      <td>668</td>\n",
              "      <td>no</td>\n",
              "      <td>no</td>\n",
              "      <td>telephone</td>\n",
              "      <td>17</td>\n",
              "      <td>nov</td>\n",
              "      <td>508</td>\n",
              "      <td>4</td>\n",
              "      <td>-1</td>\n",
              "      <td>0</td>\n",
              "      <td>unknown</td>\n",
              "      <td>no</td>\n",
              "    </tr>\n",
              "    <tr>\n",
              "      <th>45210</th>\n",
              "      <td>37</td>\n",
              "      <td>entrepreneur</td>\n",
              "      <td>120000</td>\n",
              "      <td>married</td>\n",
              "      <td>secondary</td>\n",
              "      <td>yes</td>\n",
              "      <td>no</td>\n",
              "      <td>2971</td>\n",
              "      <td>no</td>\n",
              "      <td>no</td>\n",
              "      <td>cellular</td>\n",
              "      <td>17</td>\n",
              "      <td>nov</td>\n",
              "      <td>361</td>\n",
              "      <td>2</td>\n",
              "      <td>188</td>\n",
              "      <td>11</td>\n",
              "      <td>other</td>\n",
              "      <td>no</td>\n",
              "    </tr>\n",
              "  </tbody>\n",
              "</table>\n",
              "<p>45211 rows × 19 columns</p>\n",
              "</div>\n",
              "      <button class=\"colab-df-convert\" onclick=\"convertToInteractive('df-d06bf70f-ff09-4af5-8335-f43d533c3c94')\"\n",
              "              title=\"Convert this dataframe to an interactive table.\"\n",
              "              style=\"display:none;\">\n",
              "        \n",
              "  <svg xmlns=\"http://www.w3.org/2000/svg\" height=\"24px\"viewBox=\"0 0 24 24\"\n",
              "       width=\"24px\">\n",
              "    <path d=\"M0 0h24v24H0V0z\" fill=\"none\"/>\n",
              "    <path d=\"M18.56 5.44l.94 2.06.94-2.06 2.06-.94-2.06-.94-.94-2.06-.94 2.06-2.06.94zm-11 1L8.5 8.5l.94-2.06 2.06-.94-2.06-.94L8.5 2.5l-.94 2.06-2.06.94zm10 10l.94 2.06.94-2.06 2.06-.94-2.06-.94-.94-2.06-.94 2.06-2.06.94z\"/><path d=\"M17.41 7.96l-1.37-1.37c-.4-.4-.92-.59-1.43-.59-.52 0-1.04.2-1.43.59L10.3 9.45l-7.72 7.72c-.78.78-.78 2.05 0 2.83L4 21.41c.39.39.9.59 1.41.59.51 0 1.02-.2 1.41-.59l7.78-7.78 2.81-2.81c.8-.78.8-2.07 0-2.86zM5.41 20L4 18.59l7.72-7.72 1.47 1.35L5.41 20z\"/>\n",
              "  </svg>\n",
              "      </button>\n",
              "      \n",
              "  <style>\n",
              "    .colab-df-container {\n",
              "      display:flex;\n",
              "      flex-wrap:wrap;\n",
              "      gap: 12px;\n",
              "    }\n",
              "\n",
              "    .colab-df-convert {\n",
              "      background-color: #E8F0FE;\n",
              "      border: none;\n",
              "      border-radius: 50%;\n",
              "      cursor: pointer;\n",
              "      display: none;\n",
              "      fill: #1967D2;\n",
              "      height: 32px;\n",
              "      padding: 0 0 0 0;\n",
              "      width: 32px;\n",
              "    }\n",
              "\n",
              "    .colab-df-convert:hover {\n",
              "      background-color: #E2EBFA;\n",
              "      box-shadow: 0px 1px 2px rgba(60, 64, 67, 0.3), 0px 1px 3px 1px rgba(60, 64, 67, 0.15);\n",
              "      fill: #174EA6;\n",
              "    }\n",
              "\n",
              "    [theme=dark] .colab-df-convert {\n",
              "      background-color: #3B4455;\n",
              "      fill: #D2E3FC;\n",
              "    }\n",
              "\n",
              "    [theme=dark] .colab-df-convert:hover {\n",
              "      background-color: #434B5C;\n",
              "      box-shadow: 0px 1px 3px 1px rgba(0, 0, 0, 0.15);\n",
              "      filter: drop-shadow(0px 1px 2px rgba(0, 0, 0, 0.3));\n",
              "      fill: #FFFFFF;\n",
              "    }\n",
              "  </style>\n",
              "\n",
              "      <script>\n",
              "        const buttonEl =\n",
              "          document.querySelector('#df-d06bf70f-ff09-4af5-8335-f43d533c3c94 button.colab-df-convert');\n",
              "        buttonEl.style.display =\n",
              "          google.colab.kernel.accessAllowed ? 'block' : 'none';\n",
              "\n",
              "        async function convertToInteractive(key) {\n",
              "          const element = document.querySelector('#df-d06bf70f-ff09-4af5-8335-f43d533c3c94');\n",
              "          const dataTable =\n",
              "            await google.colab.kernel.invokeFunction('convertToInteractive',\n",
              "                                                     [key], {});\n",
              "          if (!dataTable) return;\n",
              "\n",
              "          const docLinkHtml = 'Like what you see? Visit the ' +\n",
              "            '<a target=\"_blank\" href=https://colab.research.google.com/notebooks/data_table.ipynb>data table notebook</a>'\n",
              "            + ' to learn more about interactive tables.';\n",
              "          element.innerHTML = '';\n",
              "          dataTable['output_type'] = 'display_data';\n",
              "          await google.colab.output.renderOutput(dataTable, element);\n",
              "          const docLink = document.createElement('div');\n",
              "          docLink.innerHTML = docLinkHtml;\n",
              "          element.appendChild(docLink);\n",
              "        }\n",
              "      </script>\n",
              "    </div>\n",
              "  </div>\n",
              "  "
            ],
            "text/plain": [
              "       age           job  salary   marital  ... pdays previous poutcome  response\n",
              "0       58    management  100000   married  ...    -1        0  unknown        no\n",
              "1       44    technician   60000    single  ...    -1        0  unknown        no\n",
              "2       33  entrepreneur  120000   married  ...    -1        0  unknown        no\n",
              "3       47   blue-collar   20000   married  ...    -1        0  unknown        no\n",
              "4       33       unknown       0    single  ...    -1        0  unknown        no\n",
              "...    ...           ...     ...       ...  ...   ...      ...      ...       ...\n",
              "45206   51    technician   60000   married  ...    -1        0  unknown       yes\n",
              "45207   71       retired   55000  divorced  ...    -1        0  unknown       yes\n",
              "45208   72       retired   55000   married  ...   184        3  success       yes\n",
              "45209   57   blue-collar   20000   married  ...    -1        0  unknown        no\n",
              "45210   37  entrepreneur  120000   married  ...   188       11    other        no\n",
              "\n",
              "[45211 rows x 19 columns]"
            ]
          },
          "metadata": {},
          "execution_count": 4
        }
      ]
    },
    {
      "cell_type": "markdown",
      "id": "4d1be051",
      "metadata": {
        "id": "4d1be051"
      },
      "source": [
        ">.\n",
        "\n",
        "\n",
        "#### Initial Details about the dataset to get the basic insights"
      ]
    },
    {
      "cell_type": "code",
      "execution_count": null,
      "id": "c04264f7",
      "metadata": {
        "id": "c04264f7",
        "outputId": "93ab7623-6022-49f4-b4b4-b46f5af2a59a"
      },
      "outputs": [
        {
          "data": {
            "text/html": [
              "<div>\n",
              "<style scoped>\n",
              "    .dataframe tbody tr th:only-of-type {\n",
              "        vertical-align: middle;\n",
              "    }\n",
              "\n",
              "    .dataframe tbody tr th {\n",
              "        vertical-align: top;\n",
              "    }\n",
              "\n",
              "    .dataframe thead th {\n",
              "        text-align: right;\n",
              "    }\n",
              "</style>\n",
              "<table border=\"1\" class=\"dataframe\">\n",
              "  <thead>\n",
              "    <tr style=\"text-align: right;\">\n",
              "      <th></th>\n",
              "      <th>age</th>\n",
              "      <th>job</th>\n",
              "      <th>salary</th>\n",
              "      <th>marital</th>\n",
              "      <th>education</th>\n",
              "      <th>targeted</th>\n",
              "      <th>default</th>\n",
              "      <th>balance</th>\n",
              "      <th>housing</th>\n",
              "      <th>loan</th>\n",
              "      <th>contact</th>\n",
              "      <th>day</th>\n",
              "      <th>month</th>\n",
              "      <th>duration</th>\n",
              "      <th>campaign</th>\n",
              "      <th>pdays</th>\n",
              "      <th>previous</th>\n",
              "      <th>poutcome</th>\n",
              "      <th>response</th>\n",
              "    </tr>\n",
              "  </thead>\n",
              "  <tbody>\n",
              "    <tr>\n",
              "      <th>0</th>\n",
              "      <td>58</td>\n",
              "      <td>management</td>\n",
              "      <td>100000</td>\n",
              "      <td>married</td>\n",
              "      <td>tertiary</td>\n",
              "      <td>yes</td>\n",
              "      <td>no</td>\n",
              "      <td>2143</td>\n",
              "      <td>yes</td>\n",
              "      <td>no</td>\n",
              "      <td>unknown</td>\n",
              "      <td>5</td>\n",
              "      <td>may</td>\n",
              "      <td>261</td>\n",
              "      <td>1</td>\n",
              "      <td>-1</td>\n",
              "      <td>0</td>\n",
              "      <td>unknown</td>\n",
              "      <td>no</td>\n",
              "    </tr>\n",
              "    <tr>\n",
              "      <th>1</th>\n",
              "      <td>44</td>\n",
              "      <td>technician</td>\n",
              "      <td>60000</td>\n",
              "      <td>single</td>\n",
              "      <td>secondary</td>\n",
              "      <td>yes</td>\n",
              "      <td>no</td>\n",
              "      <td>29</td>\n",
              "      <td>yes</td>\n",
              "      <td>no</td>\n",
              "      <td>unknown</td>\n",
              "      <td>5</td>\n",
              "      <td>may</td>\n",
              "      <td>151</td>\n",
              "      <td>1</td>\n",
              "      <td>-1</td>\n",
              "      <td>0</td>\n",
              "      <td>unknown</td>\n",
              "      <td>no</td>\n",
              "    </tr>\n",
              "    <tr>\n",
              "      <th>2</th>\n",
              "      <td>33</td>\n",
              "      <td>entrepreneur</td>\n",
              "      <td>120000</td>\n",
              "      <td>married</td>\n",
              "      <td>secondary</td>\n",
              "      <td>yes</td>\n",
              "      <td>no</td>\n",
              "      <td>2</td>\n",
              "      <td>yes</td>\n",
              "      <td>yes</td>\n",
              "      <td>unknown</td>\n",
              "      <td>5</td>\n",
              "      <td>may</td>\n",
              "      <td>76</td>\n",
              "      <td>1</td>\n",
              "      <td>-1</td>\n",
              "      <td>0</td>\n",
              "      <td>unknown</td>\n",
              "      <td>no</td>\n",
              "    </tr>\n",
              "    <tr>\n",
              "      <th>3</th>\n",
              "      <td>47</td>\n",
              "      <td>blue-collar</td>\n",
              "      <td>20000</td>\n",
              "      <td>married</td>\n",
              "      <td>unknown</td>\n",
              "      <td>no</td>\n",
              "      <td>no</td>\n",
              "      <td>1506</td>\n",
              "      <td>yes</td>\n",
              "      <td>no</td>\n",
              "      <td>unknown</td>\n",
              "      <td>5</td>\n",
              "      <td>may</td>\n",
              "      <td>92</td>\n",
              "      <td>1</td>\n",
              "      <td>-1</td>\n",
              "      <td>0</td>\n",
              "      <td>unknown</td>\n",
              "      <td>no</td>\n",
              "    </tr>\n",
              "    <tr>\n",
              "      <th>4</th>\n",
              "      <td>33</td>\n",
              "      <td>unknown</td>\n",
              "      <td>0</td>\n",
              "      <td>single</td>\n",
              "      <td>unknown</td>\n",
              "      <td>no</td>\n",
              "      <td>no</td>\n",
              "      <td>1</td>\n",
              "      <td>no</td>\n",
              "      <td>no</td>\n",
              "      <td>unknown</td>\n",
              "      <td>5</td>\n",
              "      <td>may</td>\n",
              "      <td>198</td>\n",
              "      <td>1</td>\n",
              "      <td>-1</td>\n",
              "      <td>0</td>\n",
              "      <td>unknown</td>\n",
              "      <td>no</td>\n",
              "    </tr>\n",
              "  </tbody>\n",
              "</table>\n",
              "</div>"
            ],
            "text/plain": [
              "   age           job  salary  marital  education targeted default  balance  \\\n",
              "0   58    management  100000  married   tertiary      yes      no     2143   \n",
              "1   44    technician   60000   single  secondary      yes      no       29   \n",
              "2   33  entrepreneur  120000  married  secondary      yes      no        2   \n",
              "3   47   blue-collar   20000  married    unknown       no      no     1506   \n",
              "4   33       unknown       0   single    unknown       no      no        1   \n",
              "\n",
              "  housing loan  contact  day month  duration  campaign  pdays  previous  \\\n",
              "0     yes   no  unknown    5   may       261         1     -1         0   \n",
              "1     yes   no  unknown    5   may       151         1     -1         0   \n",
              "2     yes  yes  unknown    5   may        76         1     -1         0   \n",
              "3     yes   no  unknown    5   may        92         1     -1         0   \n",
              "4      no   no  unknown    5   may       198         1     -1         0   \n",
              "\n",
              "  poutcome response  \n",
              "0  unknown       no  \n",
              "1  unknown       no  \n",
              "2  unknown       no  \n",
              "3  unknown       no  \n",
              "4  unknown       no  "
            ]
          },
          "execution_count": 3,
          "metadata": {},
          "output_type": "execute_result"
        }
      ],
      "source": [
        "bank_mark.head()"
      ]
    },
    {
      "cell_type": "code",
      "execution_count": null,
      "id": "6201ffb2",
      "metadata": {
        "scrolled": true,
        "id": "6201ffb2",
        "outputId": "6d6c42f4-4149-4d87-db1c-aa2af3bc5379"
      },
      "outputs": [
        {
          "data": {
            "text/plain": [
              "(45211, 19)"
            ]
          },
          "execution_count": 4,
          "metadata": {},
          "output_type": "execute_result"
        }
      ],
      "source": [
        "bank_mark.shape"
      ]
    },
    {
      "cell_type": "code",
      "execution_count": null,
      "id": "941a1953",
      "metadata": {
        "scrolled": true,
        "id": "941a1953",
        "outputId": "f1106ab6-7da0-479e-ee07-efb728bef291"
      },
      "outputs": [
        {
          "data": {
            "text/html": [
              "<div>\n",
              "<style scoped>\n",
              "    .dataframe tbody tr th:only-of-type {\n",
              "        vertical-align: middle;\n",
              "    }\n",
              "\n",
              "    .dataframe tbody tr th {\n",
              "        vertical-align: top;\n",
              "    }\n",
              "\n",
              "    .dataframe thead th {\n",
              "        text-align: right;\n",
              "    }\n",
              "</style>\n",
              "<table border=\"1\" class=\"dataframe\">\n",
              "  <thead>\n",
              "    <tr style=\"text-align: right;\">\n",
              "      <th></th>\n",
              "      <th>age</th>\n",
              "      <th>salary</th>\n",
              "      <th>balance</th>\n",
              "      <th>day</th>\n",
              "      <th>duration</th>\n",
              "      <th>campaign</th>\n",
              "      <th>pdays</th>\n",
              "      <th>previous</th>\n",
              "    </tr>\n",
              "  </thead>\n",
              "  <tbody>\n",
              "    <tr>\n",
              "      <th>count</th>\n",
              "      <td>45211.000000</td>\n",
              "      <td>45211.000000</td>\n",
              "      <td>45211.000000</td>\n",
              "      <td>45211.000000</td>\n",
              "      <td>45211.000000</td>\n",
              "      <td>45211.000000</td>\n",
              "      <td>45211.000000</td>\n",
              "      <td>45211.000000</td>\n",
              "    </tr>\n",
              "    <tr>\n",
              "      <th>mean</th>\n",
              "      <td>40.936210</td>\n",
              "      <td>57006.171065</td>\n",
              "      <td>1362.272058</td>\n",
              "      <td>15.806419</td>\n",
              "      <td>258.163080</td>\n",
              "      <td>2.763841</td>\n",
              "      <td>40.197828</td>\n",
              "      <td>0.580323</td>\n",
              "    </tr>\n",
              "    <tr>\n",
              "      <th>std</th>\n",
              "      <td>10.618762</td>\n",
              "      <td>32085.718415</td>\n",
              "      <td>3044.765829</td>\n",
              "      <td>8.322476</td>\n",
              "      <td>257.527812</td>\n",
              "      <td>3.098021</td>\n",
              "      <td>100.128746</td>\n",
              "      <td>2.303441</td>\n",
              "    </tr>\n",
              "    <tr>\n",
              "      <th>min</th>\n",
              "      <td>18.000000</td>\n",
              "      <td>0.000000</td>\n",
              "      <td>-8019.000000</td>\n",
              "      <td>1.000000</td>\n",
              "      <td>0.000000</td>\n",
              "      <td>1.000000</td>\n",
              "      <td>-1.000000</td>\n",
              "      <td>0.000000</td>\n",
              "    </tr>\n",
              "    <tr>\n",
              "      <th>25%</th>\n",
              "      <td>33.000000</td>\n",
              "      <td>20000.000000</td>\n",
              "      <td>72.000000</td>\n",
              "      <td>8.000000</td>\n",
              "      <td>103.000000</td>\n",
              "      <td>1.000000</td>\n",
              "      <td>-1.000000</td>\n",
              "      <td>0.000000</td>\n",
              "    </tr>\n",
              "    <tr>\n",
              "      <th>50%</th>\n",
              "      <td>39.000000</td>\n",
              "      <td>60000.000000</td>\n",
              "      <td>448.000000</td>\n",
              "      <td>16.000000</td>\n",
              "      <td>180.000000</td>\n",
              "      <td>2.000000</td>\n",
              "      <td>-1.000000</td>\n",
              "      <td>0.000000</td>\n",
              "    </tr>\n",
              "    <tr>\n",
              "      <th>75%</th>\n",
              "      <td>48.000000</td>\n",
              "      <td>70000.000000</td>\n",
              "      <td>1428.000000</td>\n",
              "      <td>21.000000</td>\n",
              "      <td>319.000000</td>\n",
              "      <td>3.000000</td>\n",
              "      <td>-1.000000</td>\n",
              "      <td>0.000000</td>\n",
              "    </tr>\n",
              "    <tr>\n",
              "      <th>max</th>\n",
              "      <td>95.000000</td>\n",
              "      <td>120000.000000</td>\n",
              "      <td>102127.000000</td>\n",
              "      <td>31.000000</td>\n",
              "      <td>4918.000000</td>\n",
              "      <td>63.000000</td>\n",
              "      <td>871.000000</td>\n",
              "      <td>275.000000</td>\n",
              "    </tr>\n",
              "  </tbody>\n",
              "</table>\n",
              "</div>"
            ],
            "text/plain": [
              "                age         salary        balance           day      duration  \\\n",
              "count  45211.000000   45211.000000   45211.000000  45211.000000  45211.000000   \n",
              "mean      40.936210   57006.171065    1362.272058     15.806419    258.163080   \n",
              "std       10.618762   32085.718415    3044.765829      8.322476    257.527812   \n",
              "min       18.000000       0.000000   -8019.000000      1.000000      0.000000   \n",
              "25%       33.000000   20000.000000      72.000000      8.000000    103.000000   \n",
              "50%       39.000000   60000.000000     448.000000     16.000000    180.000000   \n",
              "75%       48.000000   70000.000000    1428.000000     21.000000    319.000000   \n",
              "max       95.000000  120000.000000  102127.000000     31.000000   4918.000000   \n",
              "\n",
              "           campaign         pdays      previous  \n",
              "count  45211.000000  45211.000000  45211.000000  \n",
              "mean       2.763841     40.197828      0.580323  \n",
              "std        3.098021    100.128746      2.303441  \n",
              "min        1.000000     -1.000000      0.000000  \n",
              "25%        1.000000     -1.000000      0.000000  \n",
              "50%        2.000000     -1.000000      0.000000  \n",
              "75%        3.000000     -1.000000      0.000000  \n",
              "max       63.000000    871.000000    275.000000  "
            ]
          },
          "execution_count": 5,
          "metadata": {},
          "output_type": "execute_result"
        }
      ],
      "source": [
        "bank_mark.describe()"
      ]
    },
    {
      "cell_type": "code",
      "execution_count": null,
      "id": "66dc27d9",
      "metadata": {
        "scrolled": true,
        "id": "66dc27d9",
        "outputId": "6af9fcdd-a56f-460a-e2dd-1a8b49d70a0d"
      },
      "outputs": [
        {
          "name": "stdout",
          "output_type": "stream",
          "text": [
            "<class 'pandas.core.frame.DataFrame'>\n",
            "RangeIndex: 45211 entries, 0 to 45210\n",
            "Data columns (total 19 columns):\n",
            " #   Column     Non-Null Count  Dtype \n",
            "---  ------     --------------  ----- \n",
            " 0   age        45211 non-null  int64 \n",
            " 1   job        45211 non-null  object\n",
            " 2   salary     45211 non-null  int64 \n",
            " 3   marital    45211 non-null  object\n",
            " 4   education  45211 non-null  object\n",
            " 5   targeted   45211 non-null  object\n",
            " 6   default    45211 non-null  object\n",
            " 7   balance    45211 non-null  int64 \n",
            " 8   housing    45211 non-null  object\n",
            " 9   loan       45211 non-null  object\n",
            " 10  contact    45211 non-null  object\n",
            " 11  day        45211 non-null  int64 \n",
            " 12  month      45211 non-null  object\n",
            " 13  duration   45211 non-null  int64 \n",
            " 14  campaign   45211 non-null  int64 \n",
            " 15  pdays      45211 non-null  int64 \n",
            " 16  previous   45211 non-null  int64 \n",
            " 17  poutcome   45211 non-null  object\n",
            " 18  response   45211 non-null  object\n",
            "dtypes: int64(8), object(11)\n",
            "memory usage: 6.6+ MB\n"
          ]
        }
      ],
      "source": [
        "bank_mark.info()"
      ]
    },
    {
      "cell_type": "markdown",
      "id": "469fe58f",
      "metadata": {
        "id": "469fe58f"
      },
      "source": [
        "Describe the pdays column\n",
        "\n",
        ", make note of the mean, median and minimum values. Anything fishy in the values?"
      ]
    },
    {
      "cell_type": "code",
      "execution_count": null,
      "id": "68aa89a6",
      "metadata": {
        "scrolled": false,
        "id": "68aa89a6",
        "outputId": "83e4e178-c8da-425d-df4b-34d17a6dc945"
      },
      "outputs": [
        {
          "data": {
            "text/plain": [
              "count    45211.000000\n",
              "mean        40.197828\n",
              "std        100.128746\n",
              "min         -1.000000\n",
              "25%         -1.000000\n",
              "50%         -1.000000\n",
              "75%         -1.000000\n",
              "max        871.000000\n",
              "Name: pdays, dtype: float64"
            ]
          },
          "execution_count": 7,
          "metadata": {},
          "output_type": "execute_result"
        }
      ],
      "source": [
        "bank_mark['pdays'].describe()"
      ]
    },
    {
      "cell_type": "markdown",
      "id": "a7b697b4",
      "metadata": {
        "id": "a7b697b4"
      },
      "source": [
        "> \"pdays\" is using -1 as indicator and not value. \n",
        "Hence treat these are missing value.\n",
        "\n",
        ">Ignore these values in our average/median/state calculations.Keeping it NaN makes more sense so Wherever pdays is -1, replacing the same with NaN."
      ]
    },
    {
      "cell_type": "code",
      "execution_count": null,
      "id": "af30e328",
      "metadata": {
        "id": "af30e328"
      },
      "outputs": [],
      "source": [
        "df = bank_mark.copy()"
      ]
    },
    {
      "cell_type": "code",
      "execution_count": null,
      "id": "d69cebd4",
      "metadata": {
        "id": "d69cebd4"
      },
      "outputs": [],
      "source": [
        "df.drop(bank_mark[bank_mark['pdays']<0].index, inplace=True)"
      ]
    },
    {
      "cell_type": "code",
      "execution_count": null,
      "id": "848f8935",
      "metadata": {
        "scrolled": true,
        "id": "848f8935",
        "outputId": "f37f4956-6b42-4329-b119-29a8383d4617"
      },
      "outputs": [
        {
          "data": {
            "text/plain": [
              "count    8257.000000\n",
              "mean      224.577692\n",
              "std       115.344035\n",
              "min         1.000000\n",
              "25%       133.000000\n",
              "50%       194.000000\n",
              "75%       327.000000\n",
              "max       871.000000\n",
              "Name: pdays, dtype: float64"
            ]
          },
          "execution_count": 11,
          "metadata": {},
          "output_type": "execute_result"
        }
      ],
      "source": [
        "df['pdays'].describe()"
      ]
    },
    {
      "cell_type": "markdown",
      "id": "302e68b3",
      "metadata": {
        "id": "302e68b3"
      },
      "source": [
        "##### *Ploting a bar graph with the median values of balance for each education level value. Which group has the highest median?*\n",
        "Removing objects and numerical data types to represent the graph accurately."
      ]
    },
    {
      "cell_type": "code",
      "execution_count": null,
      "id": "9807bd0c",
      "metadata": {
        "scrolled": true,
        "id": "9807bd0c",
        "outputId": "8f3728ad-33a6-49ac-8f6d-67b28f672b01"
      },
      "outputs": [
        {
          "data": {
            "text/plain": [
              "<AxesSubplot:ylabel='education'>"
            ]
          },
          "execution_count": 18,
          "metadata": {},
          "output_type": "execute_result"
        },
        {
          "data": {
            "image/png": "[encoded data removed]",
            "text/plain": [
              "<Figure size 432x288 with 1 Axes>"
            ]
          },
          "metadata": {
            "needs_background": "light"
          },
          "output_type": "display_data"
        }
      ],
      "source": [
        "df.groupby(['education'])['balance'].median().plot.barh()"
      ]
    },
    {
      "cell_type": "markdown",
      "id": "7960255a",
      "metadata": {
        "id": "7960255a"
      },
      "source": [
        "### *Tertiary level of education having median value for balance as the plot implies*"
      ]
    },
    {
      "cell_type": "markdown",
      "id": "04af191e",
      "metadata": {
        "id": "04af191e"
      },
      "source": [
        ">"
      ]
    },
    {
      "cell_type": "markdown",
      "id": "95d1aceb",
      "metadata": {
        "id": "95d1aceb"
      },
      "source": [
        ">Make a box plot for pdays. Do you see any outliers?"
      ]
    },
    {
      "cell_type": "code",
      "execution_count": null,
      "id": "598a35a7",
      "metadata": {
        "scrolled": false,
        "id": "598a35a7",
        "outputId": "6a94a370-3946-47b0-dd15-c753a7f5dc67"
      },
      "outputs": [
        {
          "data": {
            "image/png": "[encoded data removed]",
            "text/plain": [
              "<Figure size 432x288 with 1 Axes>"
            ]
          },
          "metadata": {
            "needs_background": "light"
          },
          "output_type": "display_data"
        }
      ],
      "source": [
        "df.pdays.plot.box()\n",
        "plt.show()"
      ]
    },
    {
      "cell_type": "markdown",
      "id": "7bd3161e",
      "metadata": {
        "id": "7bd3161e"
      },
      "source": [
        "> Clear Indication in the boxplot which confirms the presence of outliers( data point that differs significantly from other observations.)."
      ]
    },
    {
      "cell_type": "markdown",
      "id": "00bef080",
      "metadata": {
        "id": "00bef080"
      },
      "source": [
        ">\n",
        "#### The final goal is to make a predictive model to predict if the customer will respond positively to the campaign or not. The target variable is “response”.\n",
        "\n",
        "###### First, perform bi-variate analysis to identify the features that are directly associated with the target variable. You can refer to the notebook we used for the EDA discussion.\n",
        "- Convert the response variable to a convenient form\n",
        "- Make suitable plots for associations with numerical features and categorical features’\n",
        "###### Are the features about the previous campaign data useful?\n",
        "###### Are pdays and poutcome associated with the target?\n",
        "###### If yes, and if you plan to use them – how do you handle the pdays column with a value of -1 where the previous campaign data is missing? Explain your approach and your decision."
      ]
    },
    {
      "cell_type": "code",
      "execution_count": null,
      "id": "2f92bbda",
      "metadata": {
        "scrolled": true,
        "id": "2f92bbda",
        "outputId": "0b061993-f5b6-4a25-ed63-a70516636be8"
      },
      "outputs": [
        {
          "data": {
            "text/plain": [
              "no     6352\n",
              "yes    1905\n",
              "Name: response, dtype: int64"
            ]
          },
          "execution_count": 20,
          "metadata": {},
          "output_type": "execute_result"
        }
      ],
      "source": [
        "df['response'].value_counts()"
      ]
    },
    {
      "cell_type": "code",
      "execution_count": null,
      "id": "c68a51ac",
      "metadata": {
        "id": "c68a51ac",
        "outputId": "b2b85267-b8fb-49b0-a955-79d75940c4b6"
      },
      "outputs": [
        {
          "data": {
            "text/plain": [
              "no     0.769287\n",
              "yes    0.230713\n",
              "Name: response, dtype: float64"
            ]
          },
          "execution_count": 21,
          "metadata": {},
          "output_type": "execute_result"
        }
      ],
      "source": [
        "df.response.value_counts(normalize=True)"
      ]
    },
    {
      "cell_type": "code",
      "execution_count": null,
      "id": "84f09fb3",
      "metadata": {
        "id": "84f09fb3"
      },
      "outputs": [],
      "source": [
        "df.replace({'response': {\"yes\":1, \"no\":0}}, inplace=True)"
      ]
    },
    {
      "cell_type": "code",
      "execution_count": null,
      "id": "e615296e",
      "metadata": {
        "scrolled": true,
        "id": "e615296e",
        "outputId": "ea3404aa-148b-444a-f5ac-61aa8e243610"
      },
      "outputs": [
        {
          "data": {
            "text/plain": [
              "0    6352\n",
              "1    1905\n",
              "Name: response, dtype: int64"
            ]
          },
          "execution_count": 23,
          "metadata": {},
          "output_type": "execute_result"
        }
      ],
      "source": [
        "df['response'].value_counts()"
      ]
    },
    {
      "cell_type": "markdown",
      "id": "20c77c76",
      "metadata": {
        "id": "20c77c76"
      },
      "source": [
        ">"
      ]
    },
    {
      "cell_type": "markdown",
      "id": "0750ffb9",
      "metadata": {
        "id": "0750ffb9"
      },
      "source": [
        "*Taking away objects and numerical datatypes*"
      ]
    },
    {
      "cell_type": "code",
      "execution_count": null,
      "id": "0cc6a898",
      "metadata": {
        "id": "0cc6a898"
      },
      "outputs": [],
      "source": [
        "obj_col = []\n",
        "num_col = []\n",
        "for col in df.columns:\n",
        "    if df[col].dtype=='O':\n",
        "        obj_col.append(col)\n",
        "    else:\n",
        "        num_col.append(col)"
      ]
    },
    {
      "cell_type": "code",
      "execution_count": null,
      "id": "4c67aa29",
      "metadata": {
        "scrolled": true,
        "id": "4c67aa29",
        "outputId": "35a81244-48a8-43e0-c553-5af9fce506f2"
      },
      "outputs": [
        {
          "name": "stdout",
          "output_type": "stream",
          "text": [
            "Features of Object  ['job', 'marital', 'education', 'targeted', 'default', 'housing', 'loan', 'contact', 'month', 'poutcome', 'response']\n",
            " Features of Numerical  ['age', 'salary', 'balance', 'day', 'duration', 'campaign', 'pdays', 'previous']\n"
          ]
        }
      ],
      "source": [
        "print(\"Features of Object \",obj_col)\n",
        "print(\" Features of Numerical \",num_col)"
      ]
    },
    {
      "cell_type": "code",
      "execution_count": null,
      "id": "5b0afee3",
      "metadata": {
        "scrolled": false,
        "id": "5b0afee3",
        "outputId": "6b255755-8bec-4528-8bc0-ba7b537fb226"
      },
      "outputs": [
        {
          "data": {
            "image/png": "[encoded data removed]",
            "text/plain": [
              "<Figure size 576x432 with 1 Axes>"
            ]
          },
          "metadata": {
            "needs_background": "light"
          },
          "output_type": "display_data"
        },
        {
          "data": {
            "image/png": "[encoded data removed]",
            "text/plain": [
              "<Figure size 576x432 with 1 Axes>"
            ]
          },
          "metadata": {
            "needs_background": "light"
          },
          "output_type": "display_data"
        },
        {
          "data": {
            "image/png": "[encoded data removed]",
            "text/plain": [
              "<Figure size 576x432 with 1 Axes>"
            ]
          },
          "metadata": {
            "needs_background": "light"
          },
          "output_type": "display_data"
        },
        {
          "data": {
            "image/png": "[encoded data removed]",
            "text/plain": [
              "<Figure size 576x432 with 1 Axes>"
            ]
          },
          "metadata": {
            "needs_background": "light"
          },
          "output_type": "display_data"
        },
        {
          "data": {
            "image/png": "[encoded data removed]",
            "text/plain": [
              "<Figure size 576x432 with 1 Axes>"
            ]
          },
          "metadata": {
            "needs_background": "light"
          },
          "output_type": "display_data"
        },
        {
          "data": {
            "image/png": "[encoded data removed]",
            "text/plain": [
              "<Figure size 576x432 with 1 Axes>"
            ]
          },
          "metadata": {
            "needs_background": "light"
          },
          "output_type": "display_data"
        },
        {
          "data": {
            "image/png": "[encoded data removed]",
            "text/plain": [
              "<Figure size 576x432 with 1 Axes>"
            ]
          },
          "metadata": {
            "needs_background": "light"
          },
          "output_type": "display_data"
        },
        {
          "data": {
            "image/png": "[encoded data removed]",
            "text/plain": [
              "<Figure size 576x432 with 1 Axes>"
            ]
          },
          "metadata": {
            "needs_background": "light"
          },
          "output_type": "display_data"
        },
        {
          "data": {
            "image/png": "[encoded data removed]",
            "text/plain": [
              "<Figure size 576x432 with 1 Axes>"
            ]
          },
          "metadata": {
            "needs_background": "light"
          },
          "output_type": "display_data"
        },
        {
          "data": {
            "image/png": "[encoded data removed]",
            "text/plain": [
              "<Figure size 576x432 with 1 Axes>"
            ]
          },
          "metadata": {
            "needs_background": "light"
          },
          "output_type": "display_data"
        }
      ],
      "source": [
        "## violin plots is used as it gives proper distribution of data shows the data is Neg/Postive skewed or not at all.\n",
        "\n",
        "\n",
        "from numpy import median\n",
        "for col in obj_col[1:]:\n",
        "    plt.figure(figsize=(8,6))\n",
        "    sns.violinplot(df[col],df[\"response\"])\n",
        "    plt.title(\"Response vs \"+col,fontsize=15)\n",
        "    plt.xlabel(col,fontsize=10)\n",
        "    plt.ylabel(\"Response\",fontsize=10)\n",
        "    plt.show()"
      ]
    },
    {
      "cell_type": "code",
      "execution_count": null,
      "id": "68bf7784",
      "metadata": {
        "id": "68bf7784",
        "outputId": "71f8cace-5f76-4c75-d92f-914fec9f28d3"
      },
      "outputs": [
        {
          "data": {
            "image/png": "[encoded data removed]",
            "text/plain": [
              "<Figure size 864x576 with 2 Axes>"
            ]
          },
          "metadata": {
            "needs_background": "light"
          },
          "output_type": "display_data"
        }
      ],
      "source": [
        "plt.figure(figsize=(12,8))\n",
        "sns.heatmap(df.corr(),annot=True,cmap='Greens')\n",
        "plt.title(\"Correlation betweet all Numerical Feature\")\n",
        "plt.show()"
      ]
    },
    {
      "cell_type": "markdown",
      "id": "c560c35f",
      "metadata": {
        "id": "c560c35f"
      },
      "source": [
        "> To summarize \"duration\" variable is correlated with response variable.\n",
        " Whereas \"pdays\" variable is not highly correlated with response variable. "
      ]
    },
    {
      "cell_type": "code",
      "execution_count": null,
      "id": "99c72f4d",
      "metadata": {
        "scrolled": false,
        "id": "99c72f4d",
        "outputId": "27a2121b-e31a-4c3e-8207-f4c6ec38d9ed"
      },
      "outputs": [
        {
          "data": {
            "text/plain": [
              "<Figure size 720x576 with 0 Axes>"
            ]
          },
          "metadata": {},
          "output_type": "display_data"
        },
        {
          "data": {
            "image/png": "[encoded data removed]",
            "text/plain": [
              "<Figure size 432x432 with 3 Axes>"
            ]
          },
          "metadata": {
            "needs_background": "light"
          },
          "output_type": "display_data"
        },
        {
          "data": {
            "text/plain": [
              "<Figure size 720x576 with 0 Axes>"
            ]
          },
          "metadata": {},
          "output_type": "display_data"
        },
        {
          "data": {
            "image/png": "[encoded data removed]",
            "text/plain": [
              "<Figure size 432x432 with 3 Axes>"
            ]
          },
          "metadata": {
            "needs_background": "light"
          },
          "output_type": "display_data"
        },
        {
          "data": {
            "text/plain": [
              "<Figure size 720x576 with 0 Axes>"
            ]
          },
          "metadata": {},
          "output_type": "display_data"
        },
        {
          "data": {
            "image/png": "[encoded data removed]",
            "text/plain": [
              "<Figure size 432x432 with 3 Axes>"
            ]
          },
          "metadata": {
            "needs_background": "light"
          },
          "output_type": "display_data"
        },
        {
          "data": {
            "text/plain": [
              "<Figure size 720x576 with 0 Axes>"
            ]
          },
          "metadata": {},
          "output_type": "display_data"
        },
        {
          "data": {
            "image/png": "[encoded data removed]",
            "text/plain": [
              "<Figure size 432x432 with 3 Axes>"
            ]
          },
          "metadata": {
            "needs_background": "light"
          },
          "output_type": "display_data"
        },
        {
          "data": {
            "text/plain": [
              "<Figure size 720x576 with 0 Axes>"
            ]
          },
          "metadata": {},
          "output_type": "display_data"
        },
        {
          "data": {
            "image/png": "[encoded data removed]",
            "text/plain": [
              "<Figure size 432x432 with 3 Axes>"
            ]
          },
          "metadata": {
            "needs_background": "light"
          },
          "output_type": "display_data"
        },
        {
          "data": {
            "text/plain": [
              "<Figure size 720x576 with 0 Axes>"
            ]
          },
          "metadata": {},
          "output_type": "display_data"
        },
        {
          "data": {
            "image/png": "[encoded data removed]",
            "text/plain": [
              "<Figure size 432x432 with 3 Axes>"
            ]
          },
          "metadata": {
            "needs_background": "light"
          },
          "output_type": "display_data"
        },
        {
          "data": {
            "text/plain": [
              "<Figure size 720x576 with 0 Axes>"
            ]
          },
          "metadata": {},
          "output_type": "display_data"
        },
        {
          "data": {
            "image/png": "[encoded data removed]",
            "text/plain": [
              "<Figure size 432x432 with 3 Axes>"
            ]
          },
          "metadata": {
            "needs_background": "light"
          },
          "output_type": "display_data"
        }
      ],
      "source": [
        "for col in num_col[:-1]:\n",
        "    plt.figure(figsize=(10,8))\n",
        "    sns.jointplot(x = df[col],y = df[\"response\"],kind='reg',joint_kws={'color':'green'})\n",
        "    plt.xlabel(col,fontsize = 12)\n",
        "    plt.ylabel(\"Response\",fontsize = 12)\n",
        "    plt.grid()\n",
        "    plt.show()"
      ]
    },
    {
      "cell_type": "code",
      "execution_count": null,
      "id": "5d1882b4",
      "metadata": {
        "id": "5d1882b4"
      },
      "outputs": [],
      "source": [
        "from sklearn.preprocessing import LabelEncoder"
      ]
    },
    {
      "cell_type": "code",
      "execution_count": null,
      "id": "75b0b189",
      "metadata": {
        "id": "75b0b189"
      },
      "outputs": [],
      "source": [
        "df2 = df[obj_col].apply(LabelEncoder().fit_transform)"
      ]
    },
    {
      "cell_type": "code",
      "execution_count": null,
      "id": "82541015",
      "metadata": {
        "scrolled": true,
        "id": "82541015",
        "outputId": "7352b2a9-13d9-4a17-f61d-f233f2044a70"
      },
      "outputs": [
        {
          "data": {
            "text/html": [
              "<div>\n",
              "<style scoped>\n",
              "    .dataframe tbody tr th:only-of-type {\n",
              "        vertical-align: middle;\n",
              "    }\n",
              "\n",
              "    .dataframe tbody tr th {\n",
              "        vertical-align: top;\n",
              "    }\n",
              "\n",
              "    .dataframe thead th {\n",
              "        text-align: right;\n",
              "    }\n",
              "</style>\n",
              "<table border=\"1\" class=\"dataframe\">\n",
              "  <thead>\n",
              "    <tr style=\"text-align: right;\">\n",
              "      <th></th>\n",
              "      <th>job</th>\n",
              "      <th>marital</th>\n",
              "      <th>education</th>\n",
              "      <th>targeted</th>\n",
              "      <th>default</th>\n",
              "      <th>housing</th>\n",
              "      <th>loan</th>\n",
              "      <th>contact</th>\n",
              "      <th>month</th>\n",
              "      <th>poutcome</th>\n",
              "      <th>response</th>\n",
              "    </tr>\n",
              "  </thead>\n",
              "  <tbody>\n",
              "    <tr>\n",
              "      <th>24060</th>\n",
              "      <td>0</td>\n",
              "      <td>1</td>\n",
              "      <td>2</td>\n",
              "      <td>1</td>\n",
              "      <td>0</td>\n",
              "      <td>0</td>\n",
              "      <td>0</td>\n",
              "      <td>1</td>\n",
              "      <td>10</td>\n",
              "      <td>0</td>\n",
              "      <td>0</td>\n",
              "    </tr>\n",
              "    <tr>\n",
              "      <th>24062</th>\n",
              "      <td>0</td>\n",
              "      <td>2</td>\n",
              "      <td>1</td>\n",
              "      <td>1</td>\n",
              "      <td>0</td>\n",
              "      <td>1</td>\n",
              "      <td>1</td>\n",
              "      <td>1</td>\n",
              "      <td>10</td>\n",
              "      <td>1</td>\n",
              "      <td>1</td>\n",
              "    </tr>\n",
              "    <tr>\n",
              "      <th>24064</th>\n",
              "      <td>7</td>\n",
              "      <td>1</td>\n",
              "      <td>1</td>\n",
              "      <td>1</td>\n",
              "      <td>0</td>\n",
              "      <td>1</td>\n",
              "      <td>0</td>\n",
              "      <td>1</td>\n",
              "      <td>10</td>\n",
              "      <td>0</td>\n",
              "      <td>1</td>\n",
              "    </tr>\n",
              "    <tr>\n",
              "      <th>24072</th>\n",
              "      <td>4</td>\n",
              "      <td>1</td>\n",
              "      <td>2</td>\n",
              "      <td>1</td>\n",
              "      <td>0</td>\n",
              "      <td>1</td>\n",
              "      <td>0</td>\n",
              "      <td>1</td>\n",
              "      <td>10</td>\n",
              "      <td>1</td>\n",
              "      <td>0</td>\n",
              "    </tr>\n",
              "    <tr>\n",
              "      <th>24077</th>\n",
              "      <td>4</td>\n",
              "      <td>1</td>\n",
              "      <td>2</td>\n",
              "      <td>1</td>\n",
              "      <td>0</td>\n",
              "      <td>1</td>\n",
              "      <td>0</td>\n",
              "      <td>1</td>\n",
              "      <td>10</td>\n",
              "      <td>0</td>\n",
              "      <td>1</td>\n",
              "    </tr>\n",
              "  </tbody>\n",
              "</table>\n",
              "</div>"
            ],
            "text/plain": [
              "       job  marital  education  targeted  default  housing  loan  contact  \\\n",
              "24060    0        1          2         1        0        0     0        1   \n",
              "24062    0        2          1         1        0        1     1        1   \n",
              "24064    7        1          1         1        0        1     0        1   \n",
              "24072    4        1          2         1        0        1     0        1   \n",
              "24077    4        1          2         1        0        1     0        1   \n",
              "\n",
              "       month  poutcome  response  \n",
              "24060     10         0         0  \n",
              "24062     10         1         1  \n",
              "24064     10         0         1  \n",
              "24072     10         1         0  \n",
              "24077     10         0         1  "
            ]
          },
          "execution_count": 41,
          "metadata": {},
          "output_type": "execute_result"
        }
      ],
      "source": [
        "df2.head()"
      ]
    },
    {
      "cell_type": "code",
      "execution_count": null,
      "id": "da48fd0b",
      "metadata": {
        "id": "da48fd0b"
      },
      "outputs": [],
      "source": [
        "df3 = df2.join(df[num_col])"
      ]
    },
    {
      "cell_type": "code",
      "execution_count": null,
      "id": "fb89c6f4",
      "metadata": {
        "id": "fb89c6f4",
        "outputId": "17483f60-b748-42e6-e54a-30eae8899579"
      },
      "outputs": [
        {
          "data": {
            "text/html": [
              "<div>\n",
              "<style scoped>\n",
              "    .dataframe tbody tr th:only-of-type {\n",
              "        vertical-align: middle;\n",
              "    }\n",
              "\n",
              "    .dataframe tbody tr th {\n",
              "        vertical-align: top;\n",
              "    }\n",
              "\n",
              "    .dataframe thead th {\n",
              "        text-align: right;\n",
              "    }\n",
              "</style>\n",
              "<table border=\"1\" class=\"dataframe\">\n",
              "  <thead>\n",
              "    <tr style=\"text-align: right;\">\n",
              "      <th></th>\n",
              "      <th>job</th>\n",
              "      <th>marital</th>\n",
              "      <th>education</th>\n",
              "      <th>targeted</th>\n",
              "      <th>default</th>\n",
              "      <th>housing</th>\n",
              "      <th>loan</th>\n",
              "      <th>contact</th>\n",
              "      <th>month</th>\n",
              "      <th>poutcome</th>\n",
              "      <th>response</th>\n",
              "      <th>age</th>\n",
              "      <th>salary</th>\n",
              "      <th>balance</th>\n",
              "      <th>day</th>\n",
              "      <th>duration</th>\n",
              "      <th>campaign</th>\n",
              "      <th>pdays</th>\n",
              "      <th>previous</th>\n",
              "    </tr>\n",
              "  </thead>\n",
              "  <tbody>\n",
              "    <tr>\n",
              "      <th>job</th>\n",
              "      <td>1.000000</td>\n",
              "      <td>0.072746</td>\n",
              "      <td>0.159280</td>\n",
              "      <td>-0.091197</td>\n",
              "      <td>-0.021012</td>\n",
              "      <td>-0.132378</td>\n",
              "      <td>-0.033500</td>\n",
              "      <td>-0.006279</td>\n",
              "      <td>-0.002498</td>\n",
              "      <td>0.066642</td>\n",
              "      <td>0.081239</td>\n",
              "      <td>-0.020606</td>\n",
              "      <td>0.115271</td>\n",
              "      <td>0.041975</td>\n",
              "      <td>0.013841</td>\n",
              "      <td>0.024449</td>\n",
              "      <td>-0.008764</td>\n",
              "      <td>-0.110505</td>\n",
              "      <td>-0.000266</td>\n",
              "    </tr>\n",
              "    <tr>\n",
              "      <th>marital</th>\n",
              "      <td>0.072746</td>\n",
              "      <td>1.000000</td>\n",
              "      <td>0.121688</td>\n",
              "      <td>-0.255247</td>\n",
              "      <td>-0.005632</td>\n",
              "      <td>-0.056963</td>\n",
              "      <td>-0.055435</td>\n",
              "      <td>-0.031866</td>\n",
              "      <td>-0.024130</td>\n",
              "      <td>0.045015</td>\n",
              "      <td>0.049234</td>\n",
              "      <td>-0.414972</td>\n",
              "      <td>-0.042212</td>\n",
              "      <td>-0.019767</td>\n",
              "      <td>0.016797</td>\n",
              "      <td>-0.009075</td>\n",
              "      <td>-0.008338</td>\n",
              "      <td>-0.011861</td>\n",
              "      <td>0.004536</td>\n",
              "    </tr>\n",
              "    <tr>\n",
              "      <th>education</th>\n",
              "      <td>0.159280</td>\n",
              "      <td>0.121688</td>\n",
              "      <td>1.000000</td>\n",
              "      <td>-0.632513</td>\n",
              "      <td>-0.013682</td>\n",
              "      <td>-0.129804</td>\n",
              "      <td>-0.047718</td>\n",
              "      <td>-0.048456</td>\n",
              "      <td>-0.010829</td>\n",
              "      <td>0.082852</td>\n",
              "      <td>0.108098</td>\n",
              "      <td>-0.119516</td>\n",
              "      <td>0.423157</td>\n",
              "      <td>0.074166</td>\n",
              "      <td>0.023542</td>\n",
              "      <td>-0.001142</td>\n",
              "      <td>-0.024343</td>\n",
              "      <td>-0.140155</td>\n",
              "      <td>0.000115</td>\n",
              "    </tr>\n",
              "    <tr>\n",
              "      <th>targeted</th>\n",
              "      <td>-0.091197</td>\n",
              "      <td>-0.255247</td>\n",
              "      <td>-0.632513</td>\n",
              "      <td>1.000000</td>\n",
              "      <td>0.019593</td>\n",
              "      <td>0.087470</td>\n",
              "      <td>0.070420</td>\n",
              "      <td>0.020464</td>\n",
              "      <td>0.010187</td>\n",
              "      <td>-0.071356</td>\n",
              "      <td>-0.091216</td>\n",
              "      <td>0.140750</td>\n",
              "      <td>-0.228338</td>\n",
              "      <td>-0.052007</td>\n",
              "      <td>-0.026179</td>\n",
              "      <td>-0.014729</td>\n",
              "      <td>0.017948</td>\n",
              "      <td>0.075638</td>\n",
              "      <td>-0.001205</td>\n",
              "    </tr>\n",
              "    <tr>\n",
              "      <th>default</th>\n",
              "      <td>-0.021012</td>\n",
              "      <td>-0.005632</td>\n",
              "      <td>-0.013682</td>\n",
              "      <td>0.019593</td>\n",
              "      <td>1.000000</td>\n",
              "      <td>0.022644</td>\n",
              "      <td>0.052261</td>\n",
              "      <td>-0.019834</td>\n",
              "      <td>0.020123</td>\n",
              "      <td>-0.025566</td>\n",
              "      <td>-0.028299</td>\n",
              "      <td>-0.027825</td>\n",
              "      <td>0.000361</td>\n",
              "      <td>-0.045010</td>\n",
              "      <td>-0.001013</td>\n",
              "      <td>-0.002635</td>\n",
              "      <td>-0.002064</td>\n",
              "      <td>0.033760</td>\n",
              "      <td>0.012149</td>\n",
              "    </tr>\n",
              "    <tr>\n",
              "      <th>housing</th>\n",
              "      <td>-0.132378</td>\n",
              "      <td>-0.056963</td>\n",
              "      <td>-0.129804</td>\n",
              "      <td>0.087470</td>\n",
              "      <td>0.022644</td>\n",
              "      <td>1.000000</td>\n",
              "      <td>0.109815</td>\n",
              "      <td>-0.069869</td>\n",
              "      <td>0.014452</td>\n",
              "      <td>-0.284439</td>\n",
              "      <td>-0.317501</td>\n",
              "      <td>-0.179386</td>\n",
              "      <td>-0.035905</td>\n",
              "      <td>-0.109163</td>\n",
              "      <td>-0.066740</td>\n",
              "      <td>-0.072070</td>\n",
              "      <td>0.063071</td>\n",
              "      <td>0.335124</td>\n",
              "      <td>0.008934</td>\n",
              "    </tr>\n",
              "    <tr>\n",
              "      <th>loan</th>\n",
              "      <td>-0.033500</td>\n",
              "      <td>-0.055435</td>\n",
              "      <td>-0.047718</td>\n",
              "      <td>0.070420</td>\n",
              "      <td>0.052261</td>\n",
              "      <td>0.109815</td>\n",
              "      <td>1.000000</td>\n",
              "      <td>-0.020904</td>\n",
              "      <td>0.000524</td>\n",
              "      <td>-0.103154</td>\n",
              "      <td>-0.115805</td>\n",
              "      <td>-0.008330</td>\n",
              "      <td>0.013788</td>\n",
              "      <td>-0.085004</td>\n",
              "      <td>0.007550</td>\n",
              "      <td>-0.033874</td>\n",
              "      <td>0.007444</td>\n",
              "      <td>0.022454</td>\n",
              "      <td>0.016549</td>\n",
              "    </tr>\n",
              "    <tr>\n",
              "      <th>contact</th>\n",
              "      <td>-0.006279</td>\n",
              "      <td>-0.031866</td>\n",
              "      <td>-0.048456</td>\n",
              "      <td>0.020464</td>\n",
              "      <td>-0.019834</td>\n",
              "      <td>-0.069869</td>\n",
              "      <td>-0.020904</td>\n",
              "      <td>1.000000</td>\n",
              "      <td>0.047045</td>\n",
              "      <td>0.024590</td>\n",
              "      <td>-0.014321</td>\n",
              "      <td>0.166384</td>\n",
              "      <td>-0.035805</td>\n",
              "      <td>0.030317</td>\n",
              "      <td>-0.012330</td>\n",
              "      <td>-0.036360</td>\n",
              "      <td>0.063199</td>\n",
              "      <td>0.077235</td>\n",
              "      <td>0.043830</td>\n",
              "    </tr>\n",
              "    <tr>\n",
              "      <th>month</th>\n",
              "      <td>-0.002498</td>\n",
              "      <td>-0.024130</td>\n",
              "      <td>-0.010829</td>\n",
              "      <td>0.010187</td>\n",
              "      <td>0.020123</td>\n",
              "      <td>0.014452</td>\n",
              "      <td>0.000524</td>\n",
              "      <td>0.047045</td>\n",
              "      <td>1.000000</td>\n",
              "      <td>-0.019188</td>\n",
              "      <td>-0.009586</td>\n",
              "      <td>0.013909</td>\n",
              "      <td>0.019820</td>\n",
              "      <td>0.015723</td>\n",
              "      <td>-0.024264</td>\n",
              "      <td>-0.036446</td>\n",
              "      <td>0.023224</td>\n",
              "      <td>0.022529</td>\n",
              "      <td>0.013977</td>\n",
              "    </tr>\n",
              "    <tr>\n",
              "      <th>poutcome</th>\n",
              "      <td>0.066642</td>\n",
              "      <td>0.045015</td>\n",
              "      <td>0.082852</td>\n",
              "      <td>-0.071356</td>\n",
              "      <td>-0.025566</td>\n",
              "      <td>-0.284439</td>\n",
              "      <td>-0.103154</td>\n",
              "      <td>0.024590</td>\n",
              "      <td>-0.019188</td>\n",
              "      <td>1.000000</td>\n",
              "      <td>0.420519</td>\n",
              "      <td>0.051987</td>\n",
              "      <td>0.013079</td>\n",
              "      <td>0.051464</td>\n",
              "      <td>0.017125</td>\n",
              "      <td>0.108473</td>\n",
              "      <td>-0.000502</td>\n",
              "      <td>-0.235119</td>\n",
              "      <td>0.041607</td>\n",
              "    </tr>\n",
              "    <tr>\n",
              "      <th>response</th>\n",
              "      <td>0.081239</td>\n",
              "      <td>0.049234</td>\n",
              "      <td>0.108098</td>\n",
              "      <td>-0.091216</td>\n",
              "      <td>-0.028299</td>\n",
              "      <td>-0.317501</td>\n",
              "      <td>-0.115805</td>\n",
              "      <td>-0.014321</td>\n",
              "      <td>-0.009586</td>\n",
              "      <td>0.420519</td>\n",
              "      <td>1.000000</td>\n",
              "      <td>0.072577</td>\n",
              "      <td>0.036774</td>\n",
              "      <td>0.076995</td>\n",
              "      <td>0.029952</td>\n",
              "      <td>0.342610</td>\n",
              "      <td>-0.094110</td>\n",
              "      <td>-0.152206</td>\n",
              "      <td>0.008622</td>\n",
              "    </tr>\n",
              "    <tr>\n",
              "      <th>age</th>\n",
              "      <td>-0.020606</td>\n",
              "      <td>-0.414972</td>\n",
              "      <td>-0.119516</td>\n",
              "      <td>0.140750</td>\n",
              "      <td>-0.027825</td>\n",
              "      <td>-0.179386</td>\n",
              "      <td>-0.008330</td>\n",
              "      <td>0.166384</td>\n",
              "      <td>0.013909</td>\n",
              "      <td>0.051987</td>\n",
              "      <td>0.072577</td>\n",
              "      <td>1.000000</td>\n",
              "      <td>0.058322</td>\n",
              "      <td>0.115480</td>\n",
              "      <td>0.018399</td>\n",
              "      <td>0.060519</td>\n",
              "      <td>0.003842</td>\n",
              "      <td>-0.107863</td>\n",
              "      <td>0.002280</td>\n",
              "    </tr>\n",
              "    <tr>\n",
              "      <th>salary</th>\n",
              "      <td>0.115271</td>\n",
              "      <td>-0.042212</td>\n",
              "      <td>0.423157</td>\n",
              "      <td>-0.228338</td>\n",
              "      <td>0.000361</td>\n",
              "      <td>-0.035905</td>\n",
              "      <td>0.013788</td>\n",
              "      <td>-0.035805</td>\n",
              "      <td>0.019820</td>\n",
              "      <td>0.013079</td>\n",
              "      <td>0.036774</td>\n",
              "      <td>0.058322</td>\n",
              "      <td>1.000000</td>\n",
              "      <td>0.066079</td>\n",
              "      <td>0.002379</td>\n",
              "      <td>0.005734</td>\n",
              "      <td>-0.018559</td>\n",
              "      <td>-0.106134</td>\n",
              "      <td>0.028427</td>\n",
              "    </tr>\n",
              "    <tr>\n",
              "      <th>balance</th>\n",
              "      <td>0.041975</td>\n",
              "      <td>-0.019767</td>\n",
              "      <td>0.074166</td>\n",
              "      <td>-0.052007</td>\n",
              "      <td>-0.045010</td>\n",
              "      <td>-0.109163</td>\n",
              "      <td>-0.085004</td>\n",
              "      <td>0.030317</td>\n",
              "      <td>0.015723</td>\n",
              "      <td>0.051464</td>\n",
              "      <td>0.076995</td>\n",
              "      <td>0.115480</td>\n",
              "      <td>0.066079</td>\n",
              "      <td>1.000000</td>\n",
              "      <td>0.051732</td>\n",
              "      <td>0.040998</td>\n",
              "      <td>-0.008150</td>\n",
              "      <td>-0.108122</td>\n",
              "      <td>0.001570</td>\n",
              "    </tr>\n",
              "    <tr>\n",
              "      <th>day</th>\n",
              "      <td>0.013841</td>\n",
              "      <td>0.016797</td>\n",
              "      <td>0.023542</td>\n",
              "      <td>-0.026179</td>\n",
              "      <td>-0.001013</td>\n",
              "      <td>-0.066740</td>\n",
              "      <td>0.007550</td>\n",
              "      <td>-0.012330</td>\n",
              "      <td>-0.024264</td>\n",
              "      <td>0.017125</td>\n",
              "      <td>0.029952</td>\n",
              "      <td>0.018399</td>\n",
              "      <td>0.002379</td>\n",
              "      <td>0.051732</td>\n",
              "      <td>1.000000</td>\n",
              "      <td>-0.012687</td>\n",
              "      <td>-0.029295</td>\n",
              "      <td>-0.090095</td>\n",
              "      <td>-0.016801</td>\n",
              "    </tr>\n",
              "    <tr>\n",
              "      <th>duration</th>\n",
              "      <td>0.024449</td>\n",
              "      <td>-0.009075</td>\n",
              "      <td>-0.001142</td>\n",
              "      <td>-0.014729</td>\n",
              "      <td>-0.002635</td>\n",
              "      <td>-0.072070</td>\n",
              "      <td>-0.033874</td>\n",
              "      <td>-0.036360</td>\n",
              "      <td>-0.036446</td>\n",
              "      <td>0.108473</td>\n",
              "      <td>0.342610</td>\n",
              "      <td>0.060519</td>\n",
              "      <td>0.005734</td>\n",
              "      <td>0.040998</td>\n",
              "      <td>-0.012687</td>\n",
              "      <td>1.000000</td>\n",
              "      <td>-0.088394</td>\n",
              "      <td>-0.024407</td>\n",
              "      <td>-0.002150</td>\n",
              "    </tr>\n",
              "    <tr>\n",
              "      <th>campaign</th>\n",
              "      <td>-0.008764</td>\n",
              "      <td>-0.008338</td>\n",
              "      <td>-0.024343</td>\n",
              "      <td>0.017948</td>\n",
              "      <td>-0.002064</td>\n",
              "      <td>0.063071</td>\n",
              "      <td>0.007444</td>\n",
              "      <td>0.063199</td>\n",
              "      <td>0.023224</td>\n",
              "      <td>-0.000502</td>\n",
              "      <td>-0.094110</td>\n",
              "      <td>0.003842</td>\n",
              "      <td>-0.018559</td>\n",
              "      <td>-0.008150</td>\n",
              "      <td>-0.029295</td>\n",
              "      <td>-0.088394</td>\n",
              "      <td>1.000000</td>\n",
              "      <td>0.050534</td>\n",
              "      <td>0.135523</td>\n",
              "    </tr>\n",
              "    <tr>\n",
              "      <th>pdays</th>\n",
              "      <td>-0.110505</td>\n",
              "      <td>-0.011861</td>\n",
              "      <td>-0.140155</td>\n",
              "      <td>0.075638</td>\n",
              "      <td>0.033760</td>\n",
              "      <td>0.335124</td>\n",
              "      <td>0.022454</td>\n",
              "      <td>0.077235</td>\n",
              "      <td>0.022529</td>\n",
              "      <td>-0.235119</td>\n",
              "      <td>-0.152206</td>\n",
              "      <td>-0.107863</td>\n",
              "      <td>-0.106134</td>\n",
              "      <td>-0.108122</td>\n",
              "      <td>-0.090095</td>\n",
              "      <td>-0.024407</td>\n",
              "      <td>0.050534</td>\n",
              "      <td>1.000000</td>\n",
              "      <td>-0.021885</td>\n",
              "    </tr>\n",
              "    <tr>\n",
              "      <th>previous</th>\n",
              "      <td>-0.000266</td>\n",
              "      <td>0.004536</td>\n",
              "      <td>0.000115</td>\n",
              "      <td>-0.001205</td>\n",
              "      <td>0.012149</td>\n",
              "      <td>0.008934</td>\n",
              "      <td>0.016549</td>\n",
              "      <td>0.043830</td>\n",
              "      <td>0.013977</td>\n",
              "      <td>0.041607</td>\n",
              "      <td>0.008622</td>\n",
              "      <td>0.002280</td>\n",
              "      <td>0.028427</td>\n",
              "      <td>0.001570</td>\n",
              "      <td>-0.016801</td>\n",
              "      <td>-0.002150</td>\n",
              "      <td>0.135523</td>\n",
              "      <td>-0.021885</td>\n",
              "      <td>1.000000</td>\n",
              "    </tr>\n",
              "  </tbody>\n",
              "</table>\n",
              "</div>"
            ],
            "text/plain": [
              "                job   marital  education  targeted   default   housing  \\\n",
              "job        1.000000  0.072746   0.159280 -0.091197 -0.021012 -0.132378   \n",
              "marital    0.072746  1.000000   0.121688 -0.255247 -0.005632 -0.056963   \n",
              "education  0.159280  0.121688   1.000000 -0.632513 -0.013682 -0.129804   \n",
              "targeted  -0.091197 -0.255247  -0.632513  1.000000  0.019593  0.087470   \n",
              "default   -0.021012 -0.005632  -0.013682  0.019593  1.000000  0.022644   \n",
              "housing   -0.132378 -0.056963  -0.129804  0.087470  0.022644  1.000000   \n",
              "loan      -0.033500 -0.055435  -0.047718  0.070420  0.052261  0.109815   \n",
              "contact   -0.006279 -0.031866  -0.048456  0.020464 -0.019834 -0.069869   \n",
              "month     -0.002498 -0.024130  -0.010829  0.010187  0.020123  0.014452   \n",
              "poutcome   0.066642  0.045015   0.082852 -0.071356 -0.025566 -0.284439   \n",
              "response   0.081239  0.049234   0.108098 -0.091216 -0.028299 -0.317501   \n",
              "age       -0.020606 -0.414972  -0.119516  0.140750 -0.027825 -0.179386   \n",
              "salary     0.115271 -0.042212   0.423157 -0.228338  0.000361 -0.035905   \n",
              "balance    0.041975 -0.019767   0.074166 -0.052007 -0.045010 -0.109163   \n",
              "day        0.013841  0.016797   0.023542 -0.026179 -0.001013 -0.066740   \n",
              "duration   0.024449 -0.009075  -0.001142 -0.014729 -0.002635 -0.072070   \n",
              "campaign  -0.008764 -0.008338  -0.024343  0.017948 -0.002064  0.063071   \n",
              "pdays     -0.110505 -0.011861  -0.140155  0.075638  0.033760  0.335124   \n",
              "previous  -0.000266  0.004536   0.000115 -0.001205  0.012149  0.008934   \n",
              "\n",
              "               loan   contact     month  poutcome  response       age  \\\n",
              "job       -0.033500 -0.006279 -0.002498  0.066642  0.081239 -0.020606   \n",
              "marital   -0.055435 -0.031866 -0.024130  0.045015  0.049234 -0.414972   \n",
              "education -0.047718 -0.048456 -0.010829  0.082852  0.108098 -0.119516   \n",
              "targeted   0.070420  0.020464  0.010187 -0.071356 -0.091216  0.140750   \n",
              "default    0.052261 -0.019834  0.020123 -0.025566 -0.028299 -0.027825   \n",
              "housing    0.109815 -0.069869  0.014452 -0.284439 -0.317501 -0.179386   \n",
              "loan       1.000000 -0.020904  0.000524 -0.103154 -0.115805 -0.008330   \n",
              "contact   -0.020904  1.000000  0.047045  0.024590 -0.014321  0.166384   \n",
              "month      0.000524  0.047045  1.000000 -0.019188 -0.009586  0.013909   \n",
              "poutcome  -0.103154  0.024590 -0.019188  1.000000  0.420519  0.051987   \n",
              "response  -0.115805 -0.014321 -0.009586  0.420519  1.000000  0.072577   \n",
              "age       -0.008330  0.166384  0.013909  0.051987  0.072577  1.000000   \n",
              "salary     0.013788 -0.035805  0.019820  0.013079  0.036774  0.058322   \n",
              "balance   -0.085004  0.030317  0.015723  0.051464  0.076995  0.115480   \n",
              "day        0.007550 -0.012330 -0.024264  0.017125  0.029952  0.018399   \n",
              "duration  -0.033874 -0.036360 -0.036446  0.108473  0.342610  0.060519   \n",
              "campaign   0.007444  0.063199  0.023224 -0.000502 -0.094110  0.003842   \n",
              "pdays      0.022454  0.077235  0.022529 -0.235119 -0.152206 -0.107863   \n",
              "previous   0.016549  0.043830  0.013977  0.041607  0.008622  0.002280   \n",
              "\n",
              "             salary   balance       day  duration  campaign     pdays  \\\n",
              "job        0.115271  0.041975  0.013841  0.024449 -0.008764 -0.110505   \n",
              "marital   -0.042212 -0.019767  0.016797 -0.009075 -0.008338 -0.011861   \n",
              "education  0.423157  0.074166  0.023542 -0.001142 -0.024343 -0.140155   \n",
              "targeted  -0.228338 -0.052007 -0.026179 -0.014729  0.017948  0.075638   \n",
              "default    0.000361 -0.045010 -0.001013 -0.002635 -0.002064  0.033760   \n",
              "housing   -0.035905 -0.109163 -0.066740 -0.072070  0.063071  0.335124   \n",
              "loan       0.013788 -0.085004  0.007550 -0.033874  0.007444  0.022454   \n",
              "contact   -0.035805  0.030317 -0.012330 -0.036360  0.063199  0.077235   \n",
              "month      0.019820  0.015723 -0.024264 -0.036446  0.023224  0.022529   \n",
              "poutcome   0.013079  0.051464  0.017125  0.108473 -0.000502 -0.235119   \n",
              "response   0.036774  0.076995  0.029952  0.342610 -0.094110 -0.152206   \n",
              "age        0.058322  0.115480  0.018399  0.060519  0.003842 -0.107863   \n",
              "salary     1.000000  0.066079  0.002379  0.005734 -0.018559 -0.106134   \n",
              "balance    0.066079  1.000000  0.051732  0.040998 -0.008150 -0.108122   \n",
              "day        0.002379  0.051732  1.000000 -0.012687 -0.029295 -0.090095   \n",
              "duration   0.005734  0.040998 -0.012687  1.000000 -0.088394 -0.024407   \n",
              "campaign  -0.018559 -0.008150 -0.029295 -0.088394  1.000000  0.050534   \n",
              "pdays     -0.106134 -0.108122 -0.090095 -0.024407  0.050534  1.000000   \n",
              "previous   0.028427  0.001570 -0.016801 -0.002150  0.135523 -0.021885   \n",
              "\n",
              "           previous  \n",
              "job       -0.000266  \n",
              "marital    0.004536  \n",
              "education  0.000115  \n",
              "targeted  -0.001205  \n",
              "default    0.012149  \n",
              "housing    0.008934  \n",
              "loan       0.016549  \n",
              "contact    0.043830  \n",
              "month      0.013977  \n",
              "poutcome   0.041607  \n",
              "response   0.008622  \n",
              "age        0.002280  \n",
              "salary     0.028427  \n",
              "balance    0.001570  \n",
              "day       -0.016801  \n",
              "duration  -0.002150  \n",
              "campaign   0.135523  \n",
              "pdays     -0.021885  \n",
              "previous   1.000000  "
            ]
          },
          "execution_count": 43,
          "metadata": {},
          "output_type": "execute_result"
        }
      ],
      "source": [
        "df3.corr()"
      ]
    },
    {
      "cell_type": "markdown",
      "id": "76f65001",
      "metadata": {
        "id": "76f65001"
      },
      "source": [
        "#### Logistic Regression"
      ]
    },
    {
      "cell_type": "code",
      "execution_count": null,
      "id": "dde62e5f",
      "metadata": {
        "scrolled": true,
        "id": "dde62e5f",
        "outputId": "9440a020-d18f-4ebd-b604-3166b97d5c5b"
      },
      "outputs": [
        {
          "data": {
            "text/html": [
              "<div>\n",
              "<style scoped>\n",
              "    .dataframe tbody tr th:only-of-type {\n",
              "        vertical-align: middle;\n",
              "    }\n",
              "\n",
              "    .dataframe tbody tr th {\n",
              "        vertical-align: top;\n",
              "    }\n",
              "\n",
              "    .dataframe thead th {\n",
              "        text-align: right;\n",
              "    }\n",
              "</style>\n",
              "<table border=\"1\" class=\"dataframe\">\n",
              "  <thead>\n",
              "    <tr style=\"text-align: right;\">\n",
              "      <th></th>\n",
              "      <th>job</th>\n",
              "      <th>marital</th>\n",
              "      <th>education</th>\n",
              "      <th>targeted</th>\n",
              "      <th>default</th>\n",
              "      <th>housing</th>\n",
              "      <th>loan</th>\n",
              "      <th>contact</th>\n",
              "      <th>month</th>\n",
              "      <th>poutcome</th>\n",
              "      <th>age</th>\n",
              "      <th>salary</th>\n",
              "      <th>balance</th>\n",
              "      <th>day</th>\n",
              "      <th>duration</th>\n",
              "      <th>campaign</th>\n",
              "      <th>pdays</th>\n",
              "      <th>previous</th>\n",
              "    </tr>\n",
              "  </thead>\n",
              "  <tbody>\n",
              "    <tr>\n",
              "      <th>24060</th>\n",
              "      <td>0</td>\n",
              "      <td>1</td>\n",
              "      <td>2</td>\n",
              "      <td>1</td>\n",
              "      <td>0</td>\n",
              "      <td>0</td>\n",
              "      <td>0</td>\n",
              "      <td>1</td>\n",
              "      <td>10</td>\n",
              "      <td>0</td>\n",
              "      <td>33</td>\n",
              "      <td>50000</td>\n",
              "      <td>882</td>\n",
              "      <td>21</td>\n",
              "      <td>39</td>\n",
              "      <td>1</td>\n",
              "      <td>151</td>\n",
              "      <td>3</td>\n",
              "    </tr>\n",
              "    <tr>\n",
              "      <th>24062</th>\n",
              "      <td>0</td>\n",
              "      <td>2</td>\n",
              "      <td>1</td>\n",
              "      <td>1</td>\n",
              "      <td>0</td>\n",
              "      <td>1</td>\n",
              "      <td>1</td>\n",
              "      <td>1</td>\n",
              "      <td>10</td>\n",
              "      <td>1</td>\n",
              "      <td>42</td>\n",
              "      <td>50000</td>\n",
              "      <td>-247</td>\n",
              "      <td>21</td>\n",
              "      <td>519</td>\n",
              "      <td>1</td>\n",
              "      <td>166</td>\n",
              "      <td>1</td>\n",
              "    </tr>\n",
              "    <tr>\n",
              "      <th>24064</th>\n",
              "      <td>7</td>\n",
              "      <td>1</td>\n",
              "      <td>1</td>\n",
              "      <td>1</td>\n",
              "      <td>0</td>\n",
              "      <td>1</td>\n",
              "      <td>0</td>\n",
              "      <td>1</td>\n",
              "      <td>10</td>\n",
              "      <td>0</td>\n",
              "      <td>33</td>\n",
              "      <td>70000</td>\n",
              "      <td>3444</td>\n",
              "      <td>21</td>\n",
              "      <td>144</td>\n",
              "      <td>1</td>\n",
              "      <td>91</td>\n",
              "      <td>4</td>\n",
              "    </tr>\n",
              "    <tr>\n",
              "      <th>24072</th>\n",
              "      <td>4</td>\n",
              "      <td>1</td>\n",
              "      <td>2</td>\n",
              "      <td>1</td>\n",
              "      <td>0</td>\n",
              "      <td>1</td>\n",
              "      <td>0</td>\n",
              "      <td>1</td>\n",
              "      <td>10</td>\n",
              "      <td>1</td>\n",
              "      <td>36</td>\n",
              "      <td>100000</td>\n",
              "      <td>2415</td>\n",
              "      <td>22</td>\n",
              "      <td>73</td>\n",
              "      <td>1</td>\n",
              "      <td>86</td>\n",
              "      <td>4</td>\n",
              "    </tr>\n",
              "    <tr>\n",
              "      <th>24077</th>\n",
              "      <td>4</td>\n",
              "      <td>1</td>\n",
              "      <td>2</td>\n",
              "      <td>1</td>\n",
              "      <td>0</td>\n",
              "      <td>1</td>\n",
              "      <td>0</td>\n",
              "      <td>1</td>\n",
              "      <td>10</td>\n",
              "      <td>0</td>\n",
              "      <td>36</td>\n",
              "      <td>100000</td>\n",
              "      <td>0</td>\n",
              "      <td>23</td>\n",
              "      <td>140</td>\n",
              "      <td>1</td>\n",
              "      <td>143</td>\n",
              "      <td>3</td>\n",
              "    </tr>\n",
              "  </tbody>\n",
              "</table>\n",
              "</div>"
            ],
            "text/plain": [
              "       job  marital  education  targeted  default  housing  loan  contact  \\\n",
              "24060    0        1          2         1        0        0     0        1   \n",
              "24062    0        2          1         1        0        1     1        1   \n",
              "24064    7        1          1         1        0        1     0        1   \n",
              "24072    4        1          2         1        0        1     0        1   \n",
              "24077    4        1          2         1        0        1     0        1   \n",
              "\n",
              "       month  poutcome  age  salary  balance  day  duration  campaign  pdays  \\\n",
              "24060     10         0   33   50000      882   21        39         1    151   \n",
              "24062     10         1   42   50000     -247   21       519         1    166   \n",
              "24064     10         0   33   70000     3444   21       144         1     91   \n",
              "24072     10         1   36  100000     2415   22        73         1     86   \n",
              "24077     10         0   36  100000        0   23       140         1    143   \n",
              "\n",
              "       previous  \n",
              "24060         3  \n",
              "24062         1  \n",
              "24064         4  \n",
              "24072         4  \n",
              "24077         3  "
            ]
          },
          "execution_count": 44,
          "metadata": {},
          "output_type": "execute_result"
        }
      ],
      "source": [
        "X = df3.drop(\"response\", axis=1)\n",
        "X.head()"
      ]
    },
    {
      "cell_type": "code",
      "execution_count": null,
      "id": "385dbf24",
      "metadata": {
        "id": "385dbf24",
        "outputId": "15de2b52-6b3b-4f1d-e734-a7d90302991a"
      },
      "outputs": [
        {
          "data": {
            "text/html": [
              "<div>\n",
              "<style scoped>\n",
              "    .dataframe tbody tr th:only-of-type {\n",
              "        vertical-align: middle;\n",
              "    }\n",
              "\n",
              "    .dataframe tbody tr th {\n",
              "        vertical-align: top;\n",
              "    }\n",
              "\n",
              "    .dataframe thead th {\n",
              "        text-align: right;\n",
              "    }\n",
              "</style>\n",
              "<table border=\"1\" class=\"dataframe\">\n",
              "  <thead>\n",
              "    <tr style=\"text-align: right;\">\n",
              "      <th></th>\n",
              "      <th>response</th>\n",
              "    </tr>\n",
              "  </thead>\n",
              "  <tbody>\n",
              "    <tr>\n",
              "      <th>24060</th>\n",
              "      <td>0</td>\n",
              "    </tr>\n",
              "    <tr>\n",
              "      <th>24062</th>\n",
              "      <td>1</td>\n",
              "    </tr>\n",
              "    <tr>\n",
              "      <th>24064</th>\n",
              "      <td>1</td>\n",
              "    </tr>\n",
              "    <tr>\n",
              "      <th>24072</th>\n",
              "      <td>0</td>\n",
              "    </tr>\n",
              "    <tr>\n",
              "      <th>24077</th>\n",
              "      <td>1</td>\n",
              "    </tr>\n",
              "  </tbody>\n",
              "</table>\n",
              "</div>"
            ],
            "text/plain": [
              "       response\n",
              "24060         0\n",
              "24062         1\n",
              "24064         1\n",
              "24072         0\n",
              "24077         1"
            ]
          },
          "execution_count": 45,
          "metadata": {},
          "output_type": "execute_result"
        }
      ],
      "source": [
        "y= df3[['response']]\n",
        "y.head()"
      ]
    },
    {
      "cell_type": "code",
      "execution_count": null,
      "id": "b630bffe",
      "metadata": {
        "id": "b630bffe",
        "outputId": "a15703ee-6d2a-403e-d668-f4fb8760e0fb"
      },
      "outputs": [
        {
          "data": {
            "text/plain": [
              "LogisticRegression()"
            ]
          },
          "execution_count": 46,
          "metadata": {},
          "output_type": "execute_result"
        }
      ],
      "source": [
        "from sklearn.model_selection import train_test_split\n",
        "X_train,X_test,y_train,y_test = train_test_split(X,y,test_size = 0.2,random_state=42)\n",
        "from sklearn.linear_model import LogisticRegression\n",
        "lr = LogisticRegression()\n",
        "from sklearn.metrics import classification_report,confusion_matrix,f1_score\n",
        "np.random.seed(42)\n",
        "from sklearn.model_selection import cross_val_score\n",
        "lr.fit(X_train,y_train)"
      ]
    },
    {
      "cell_type": "code",
      "execution_count": null,
      "id": "9f85a935",
      "metadata": {
        "id": "9f85a935",
        "outputId": "d950d734-8bff-41e7-f47c-c792d9fa323e"
      },
      "outputs": [
        {
          "data": {
            "text/plain": [
              "0.7781983345950038"
            ]
          },
          "execution_count": 47,
          "metadata": {},
          "output_type": "execute_result"
        }
      ],
      "source": [
        "cv_score= cross_val_score(lr,X_train,y_train, cv=5)\n",
        "np.mean(cv_score)"
      ]
    },
    {
      "cell_type": "code",
      "execution_count": null,
      "id": "abb85f1b",
      "metadata": {
        "id": "abb85f1b"
      },
      "outputs": [],
      "source": [
        "y_pred = lr.predict(X_test)"
      ]
    },
    {
      "cell_type": "code",
      "execution_count": null,
      "id": "6bf7999c",
      "metadata": {
        "id": "6bf7999c",
        "outputId": "58b117dd-e7e0-4d48-8c31-f5ca80d5d358"
      },
      "outputs": [
        {
          "name": "stdout",
          "output_type": "stream",
          "text": [
            "              precision    recall  f1-score   support\n",
            "\n",
            "           0       0.81      0.96      0.87      1279\n",
            "           1       0.58      0.21      0.30       373\n",
            "\n",
            "    accuracy                           0.79      1652\n",
            "   macro avg       0.69      0.58      0.59      1652\n",
            "weighted avg       0.76      0.79      0.75      1652\n",
            "\n"
          ]
        }
      ],
      "source": [
        "print(classification_report(y_test, y_pred))"
      ]
    },
    {
      "cell_type": "code",
      "execution_count": null,
      "id": "3e928dc9",
      "metadata": {
        "scrolled": true,
        "id": "3e928dc9",
        "outputId": "fa7890c2-6fd4-4d1b-c8dc-3a8ed82e8fec"
      },
      "outputs": [
        {
          "data": {
            "text/plain": [
              "array([[1224,  296],\n",
              "       [  55,   77]], dtype=int64)"
            ]
          },
          "execution_count": 50,
          "metadata": {},
          "output_type": "execute_result"
        }
      ],
      "source": [
        "confusion_matrix(y_pred,y_test)"
      ]
    },
    {
      "cell_type": "code",
      "execution_count": null,
      "id": "61a6da34",
      "metadata": {
        "id": "61a6da34",
        "outputId": "6f32de80-f2bf-4822-ea8e-7671034c67b2"
      },
      "outputs": [
        {
          "data": {
            "text/plain": [
              "0.30495049504950494"
            ]
          },
          "execution_count": 51,
          "metadata": {},
          "output_type": "execute_result"
        }
      ],
      "source": [
        "f1_score(y_pred,y_test)"
      ]
    },
    {
      "cell_type": "code",
      "execution_count": null,
      "id": "7cd5e6b1",
      "metadata": {
        "scrolled": true,
        "id": "7cd5e6b1",
        "outputId": "271a2bd6-f321-438c-9510-2480650a2ece"
      },
      "outputs": [
        {
          "data": {
            "text/plain": [
              "array([[1224,  296],\n",
              "       [  55,   77]], dtype=int64)"
            ]
          },
          "execution_count": 52,
          "metadata": {},
          "output_type": "execute_result"
        }
      ],
      "source": [
        "confusion_matrix(y_pred,y_test)"
      ]
    },
    {
      "cell_type": "markdown",
      "id": "6e0da52e",
      "metadata": {
        "id": "6e0da52e"
      },
      "source": [
        "> Performing Recursive Feature Elimination"
      ]
    },
    {
      "cell_type": "code",
      "execution_count": null,
      "id": "2d68d24e",
      "metadata": {
        "id": "2d68d24e"
      },
      "outputs": [],
      "source": [
        "from sklearn.feature_selection import RFE\n",
        "from sklearn.preprocessing import MinMaxScaler\n",
        "scaler = MinMaxScaler()"
      ]
    },
    {
      "cell_type": "code",
      "execution_count": null,
      "id": "bdb3df69",
      "metadata": {
        "id": "bdb3df69",
        "outputId": "2212fd5d-d2bc-4bb2-948c-d1e658d21f7a"
      },
      "outputs": [
        {
          "data": {
            "text/plain": [
              "RFE(estimator=LogisticRegression(), n_features_to_select=5)"
            ]
          },
          "execution_count": 54,
          "metadata": {},
          "output_type": "execute_result"
        }
      ],
      "source": [
        "rfe = RFE(lr, 5)\n",
        "rfe.fit(X_train,y_train)"
      ]
    },
    {
      "cell_type": "code",
      "execution_count": null,
      "id": "f53da4dd",
      "metadata": {
        "id": "f53da4dd",
        "outputId": "91f7274f-526c-44f5-e92a-322d41054316"
      },
      "outputs": [
        {
          "data": {
            "text/plain": [
              "array([False, False, False, False,  True,  True,  True,  True, False,\n",
              "        True, False, False, False, False, False, False, False, False])"
            ]
          },
          "execution_count": 55,
          "metadata": {},
          "output_type": "execute_result"
        }
      ],
      "source": [
        "rfe.support_"
      ]
    },
    {
      "cell_type": "code",
      "execution_count": null,
      "id": "771578a4",
      "metadata": {
        "id": "771578a4",
        "outputId": "4d02d494-2e40-477f-a4cd-c47ae28b6e15"
      },
      "outputs": [
        {
          "data": {
            "text/plain": [
              "Index(['default', 'housing', 'loan', 'contact', 'poutcome'], dtype='object')"
            ]
          },
          "execution_count": 56,
          "metadata": {},
          "output_type": "execute_result"
        }
      ],
      "source": [
        "X_train.columns[rfe.support_]"
      ]
    },
    {
      "cell_type": "code",
      "execution_count": null,
      "id": "55c9311c",
      "metadata": {
        "id": "55c9311c"
      },
      "outputs": [],
      "source": [
        "cols = X_train.columns[rfe.support_]"
      ]
    },
    {
      "cell_type": "code",
      "execution_count": null,
      "id": "2d270ab3",
      "metadata": {
        "scrolled": true,
        "id": "2d270ab3",
        "outputId": "2535b90c-b95a-4ae0-a37e-e11e811e5588"
      },
      "outputs": [
        {
          "data": {
            "text/plain": [
              "LogisticRegression()"
            ]
          },
          "execution_count": 58,
          "metadata": {},
          "output_type": "execute_result"
        }
      ],
      "source": [
        "lr.fit(X_train[cols],y_train)"
      ]
    },
    {
      "cell_type": "code",
      "execution_count": null,
      "id": "20e70fdf",
      "metadata": {
        "id": "20e70fdf"
      },
      "outputs": [],
      "source": [
        "y_pred2 = lr.predict(X_test[cols])"
      ]
    },
    {
      "cell_type": "code",
      "execution_count": null,
      "id": "21a7cb94",
      "metadata": {
        "id": "21a7cb94",
        "outputId": "2e330447-4d54-4404-8062-097a5d20d784"
      },
      "outputs": [
        {
          "data": {
            "text/plain": [
              "0.5043478260869565"
            ]
          },
          "execution_count": 60,
          "metadata": {},
          "output_type": "execute_result"
        }
      ],
      "source": [
        "f1_score(y_pred2,y_test)"
      ]
    },
    {
      "cell_type": "code",
      "execution_count": null,
      "id": "ce3d860e",
      "metadata": {
        "id": "ce3d860e",
        "outputId": "c595c56a-f2a1-4bc5-c385-80e0954147f8"
      },
      "outputs": [
        {
          "data": {
            "text/plain": [
              "array([[1222,  228],\n",
              "       [  57,  145]], dtype=int64)"
            ]
          },
          "execution_count": 61,
          "metadata": {},
          "output_type": "execute_result"
        }
      ],
      "source": [
        "confusion_matrix(y_pred2,y_test)"
      ]
    },
    {
      "cell_type": "markdown",
      "id": "0395ddcb",
      "metadata": {
        "id": "0395ddcb"
      },
      "source": [
        ">.\n",
        "\n",
        "#### Using Stats model"
      ]
    },
    {
      "cell_type": "code",
      "execution_count": null,
      "id": "1cffa99d",
      "metadata": {
        "id": "1cffa99d"
      },
      "outputs": [],
      "source": [
        "import statsmodels.api as StatMod"
      ]
    },
    {
      "cell_type": "code",
      "execution_count": null,
      "id": "b776e5a1",
      "metadata": {
        "scrolled": true,
        "id": "b776e5a1",
        "outputId": "2d9d8439-2e91-473b-96d4-cd8a46a89dd9"
      },
      "outputs": [
        {
          "data": {
            "text/html": [
              "<div>\n",
              "<style scoped>\n",
              "    .dataframe tbody tr th:only-of-type {\n",
              "        vertical-align: middle;\n",
              "    }\n",
              "\n",
              "    .dataframe tbody tr th {\n",
              "        vertical-align: top;\n",
              "    }\n",
              "\n",
              "    .dataframe thead th {\n",
              "        text-align: right;\n",
              "    }\n",
              "</style>\n",
              "<table border=\"1\" class=\"dataframe\">\n",
              "  <thead>\n",
              "    <tr style=\"text-align: right;\">\n",
              "      <th></th>\n",
              "      <th>job</th>\n",
              "      <th>marital</th>\n",
              "      <th>education</th>\n",
              "      <th>targeted</th>\n",
              "      <th>default</th>\n",
              "      <th>housing</th>\n",
              "      <th>loan</th>\n",
              "      <th>contact</th>\n",
              "      <th>month</th>\n",
              "      <th>poutcome</th>\n",
              "      <th>age</th>\n",
              "      <th>salary</th>\n",
              "      <th>balance</th>\n",
              "      <th>day</th>\n",
              "      <th>duration</th>\n",
              "      <th>campaign</th>\n",
              "      <th>pdays</th>\n",
              "      <th>previous</th>\n",
              "    </tr>\n",
              "  </thead>\n",
              "  <tbody>\n",
              "    <tr>\n",
              "      <th>40829</th>\n",
              "      <td>0</td>\n",
              "      <td>2</td>\n",
              "      <td>1</td>\n",
              "      <td>1</td>\n",
              "      <td>0</td>\n",
              "      <td>1</td>\n",
              "      <td>0</td>\n",
              "      <td>0</td>\n",
              "      <td>1</td>\n",
              "      <td>2</td>\n",
              "      <td>40</td>\n",
              "      <td>50000</td>\n",
              "      <td>100</td>\n",
              "      <td>11</td>\n",
              "      <td>221</td>\n",
              "      <td>1</td>\n",
              "      <td>461</td>\n",
              "      <td>1</td>\n",
              "    </tr>\n",
              "    <tr>\n",
              "      <th>29715</th>\n",
              "      <td>9</td>\n",
              "      <td>1</td>\n",
              "      <td>1</td>\n",
              "      <td>1</td>\n",
              "      <td>0</td>\n",
              "      <td>0</td>\n",
              "      <td>1</td>\n",
              "      <td>0</td>\n",
              "      <td>3</td>\n",
              "      <td>0</td>\n",
              "      <td>45</td>\n",
              "      <td>60000</td>\n",
              "      <td>366</td>\n",
              "      <td>3</td>\n",
              "      <td>235</td>\n",
              "      <td>2</td>\n",
              "      <td>169</td>\n",
              "      <td>12</td>\n",
              "    </tr>\n",
              "    <tr>\n",
              "      <th>35015</th>\n",
              "      <td>9</td>\n",
              "      <td>1</td>\n",
              "      <td>1</td>\n",
              "      <td>1</td>\n",
              "      <td>0</td>\n",
              "      <td>1</td>\n",
              "      <td>0</td>\n",
              "      <td>0</td>\n",
              "      <td>8</td>\n",
              "      <td>0</td>\n",
              "      <td>32</td>\n",
              "      <td>60000</td>\n",
              "      <td>-360</td>\n",
              "      <td>6</td>\n",
              "      <td>131</td>\n",
              "      <td>2</td>\n",
              "      <td>344</td>\n",
              "      <td>2</td>\n",
              "    </tr>\n",
              "    <tr>\n",
              "      <th>41008</th>\n",
              "      <td>0</td>\n",
              "      <td>2</td>\n",
              "      <td>2</td>\n",
              "      <td>0</td>\n",
              "      <td>0</td>\n",
              "      <td>0</td>\n",
              "      <td>0</td>\n",
              "      <td>0</td>\n",
              "      <td>1</td>\n",
              "      <td>2</td>\n",
              "      <td>36</td>\n",
              "      <td>50000</td>\n",
              "      <td>994</td>\n",
              "      <td>13</td>\n",
              "      <td>185</td>\n",
              "      <td>2</td>\n",
              "      <td>105</td>\n",
              "      <td>3</td>\n",
              "    </tr>\n",
              "    <tr>\n",
              "      <th>40646</th>\n",
              "      <td>8</td>\n",
              "      <td>2</td>\n",
              "      <td>1</td>\n",
              "      <td>1</td>\n",
              "      <td>0</td>\n",
              "      <td>1</td>\n",
              "      <td>0</td>\n",
              "      <td>1</td>\n",
              "      <td>1</td>\n",
              "      <td>0</td>\n",
              "      <td>25</td>\n",
              "      <td>4000</td>\n",
              "      <td>41</td>\n",
              "      <td>5</td>\n",
              "      <td>100</td>\n",
              "      <td>2</td>\n",
              "      <td>93</td>\n",
              "      <td>2</td>\n",
              "    </tr>\n",
              "  </tbody>\n",
              "</table>\n",
              "</div>"
            ],
            "text/plain": [
              "       job  marital  education  targeted  default  housing  loan  contact  \\\n",
              "40829    0        2          1         1        0        1     0        0   \n",
              "29715    9        1          1         1        0        0     1        0   \n",
              "35015    9        1          1         1        0        1     0        0   \n",
              "41008    0        2          2         0        0        0     0        0   \n",
              "40646    8        2          1         1        0        1     0        1   \n",
              "\n",
              "       month  poutcome  age  salary  balance  day  duration  campaign  pdays  \\\n",
              "40829      1         2   40   50000      100   11       221         1    461   \n",
              "29715      3         0   45   60000      366    3       235         2    169   \n",
              "35015      8         0   32   60000     -360    6       131         2    344   \n",
              "41008      1         2   36   50000      994   13       185         2    105   \n",
              "40646      1         0   25    4000       41    5       100         2     93   \n",
              "\n",
              "       previous  \n",
              "40829         1  \n",
              "29715        12  \n",
              "35015         2  \n",
              "41008         3  \n",
              "40646         2  "
            ]
          },
          "execution_count": 63,
          "metadata": {},
          "output_type": "execute_result"
        }
      ],
      "source": [
        "X_train.head()"
      ]
    },
    {
      "cell_type": "code",
      "execution_count": null,
      "id": "17040d1e",
      "metadata": {
        "id": "17040d1e",
        "outputId": "ac939ae6-e65a-4715-bdf5-2a03267b74d0"
      },
      "outputs": [
        {
          "data": {
            "text/html": [
              "<div>\n",
              "<style scoped>\n",
              "    .dataframe tbody tr th:only-of-type {\n",
              "        vertical-align: middle;\n",
              "    }\n",
              "\n",
              "    .dataframe tbody tr th {\n",
              "        vertical-align: top;\n",
              "    }\n",
              "\n",
              "    .dataframe thead th {\n",
              "        text-align: right;\n",
              "    }\n",
              "</style>\n",
              "<table border=\"1\" class=\"dataframe\">\n",
              "  <thead>\n",
              "    <tr style=\"text-align: right;\">\n",
              "      <th></th>\n",
              "      <th>const</th>\n",
              "      <th>default</th>\n",
              "      <th>housing</th>\n",
              "      <th>loan</th>\n",
              "      <th>contact</th>\n",
              "      <th>poutcome</th>\n",
              "    </tr>\n",
              "  </thead>\n",
              "  <tbody>\n",
              "    <tr>\n",
              "      <th>40829</th>\n",
              "      <td>1.0</td>\n",
              "      <td>0</td>\n",
              "      <td>1</td>\n",
              "      <td>0</td>\n",
              "      <td>0</td>\n",
              "      <td>2</td>\n",
              "    </tr>\n",
              "    <tr>\n",
              "      <th>29715</th>\n",
              "      <td>1.0</td>\n",
              "      <td>0</td>\n",
              "      <td>0</td>\n",
              "      <td>1</td>\n",
              "      <td>0</td>\n",
              "      <td>0</td>\n",
              "    </tr>\n",
              "    <tr>\n",
              "      <th>35015</th>\n",
              "      <td>1.0</td>\n",
              "      <td>0</td>\n",
              "      <td>1</td>\n",
              "      <td>0</td>\n",
              "      <td>0</td>\n",
              "      <td>0</td>\n",
              "    </tr>\n",
              "    <tr>\n",
              "      <th>41008</th>\n",
              "      <td>1.0</td>\n",
              "      <td>0</td>\n",
              "      <td>0</td>\n",
              "      <td>0</td>\n",
              "      <td>0</td>\n",
              "      <td>2</td>\n",
              "    </tr>\n",
              "    <tr>\n",
              "      <th>40646</th>\n",
              "      <td>1.0</td>\n",
              "      <td>0</td>\n",
              "      <td>1</td>\n",
              "      <td>0</td>\n",
              "      <td>1</td>\n",
              "      <td>0</td>\n",
              "    </tr>\n",
              "  </tbody>\n",
              "</table>\n",
              "</div>"
            ],
            "text/plain": [
              "       const  default  housing  loan  contact  poutcome\n",
              "40829    1.0        0        1     0        0         2\n",
              "29715    1.0        0        0     1        0         0\n",
              "35015    1.0        0        1     0        0         0\n",
              "41008    1.0        0        0     0        0         2\n",
              "40646    1.0        0        1     0        1         0"
            ]
          },
          "execution_count": 64,
          "metadata": {},
          "output_type": "execute_result"
        }
      ],
      "source": [
        "X_train_StatMod = StatMod.add_constant(X_train[cols])\n",
        "X_train_StatMod.head()"
      ]
    },
    {
      "cell_type": "code",
      "execution_count": null,
      "id": "e463f5e6",
      "metadata": {
        "id": "e463f5e6"
      },
      "outputs": [],
      "source": [
        "Logreg = StatMod.OLS(y_train, X_train_StatMod).fit()"
      ]
    },
    {
      "cell_type": "code",
      "execution_count": null,
      "id": "2a492370",
      "metadata": {
        "scrolled": true,
        "id": "2a492370",
        "outputId": "dd250c5e-3aa5-4848-9e36-640c15511b9e"
      },
      "outputs": [
        {
          "data": {
            "text/html": [
              "<table class=\"simpletable\">\n",
              "<caption>OLS Regression Results</caption>\n",
              "<tr>\n",
              "  <th>Dep. Variable:</th>        <td>response</td>     <th>  R-squared:         </th> <td>   0.223</td>\n",
              "</tr>\n",
              "<tr>\n",
              "  <th>Model:</th>                   <td>OLS</td>       <th>  Adj. R-squared:    </th> <td>   0.222</td>\n",
              "</tr>\n",
              "<tr>\n",
              "  <th>Method:</th>             <td>Least Squares</td>  <th>  F-statistic:       </th> <td>   378.4</td>\n",
              "</tr>\n",
              "<tr>\n",
              "  <th>Date:</th>             <td>Fri, 12 Nov 2021</td> <th>  Prob (F-statistic):</th>  <td>  0.00</td> \n",
              "</tr>\n",
              "<tr>\n",
              "  <th>Time:</th>                 <td>20:52:51</td>     <th>  Log-Likelihood:    </th> <td> -2842.3</td>\n",
              "</tr>\n",
              "<tr>\n",
              "  <th>No. Observations:</th>      <td>  6605</td>      <th>  AIC:               </th> <td>   5697.</td>\n",
              "</tr>\n",
              "<tr>\n",
              "  <th>Df Residuals:</th>          <td>  6599</td>      <th>  BIC:               </th> <td>   5737.</td>\n",
              "</tr>\n",
              "<tr>\n",
              "  <th>Df Model:</th>              <td>     5</td>      <th>                     </th>     <td> </td>   \n",
              "</tr>\n",
              "<tr>\n",
              "  <th>Covariance Type:</th>      <td>nonrobust</td>    <th>                     </th>     <td> </td>   \n",
              "</tr>\n",
              "</table>\n",
              "<table class=\"simpletable\">\n",
              "<tr>\n",
              "      <td></td>        <th>coef</th>     <th>std err</th>      <th>t</th>      <th>P>|t|</th>  <th>[0.025</th>    <th>0.975]</th>  \n",
              "</tr>\n",
              "<tr>\n",
              "  <th>const</th>    <td>    0.2556</td> <td>    0.010</td> <td>   26.881</td> <td> 0.000</td> <td>    0.237</td> <td>    0.274</td>\n",
              "</tr>\n",
              "<tr>\n",
              "  <th>default</th>  <td>   -0.0629</td> <td>    0.056</td> <td>   -1.127</td> <td> 0.260</td> <td>   -0.172</td> <td>    0.047</td>\n",
              "</tr>\n",
              "<tr>\n",
              "  <th>housing</th>  <td>   -0.1904</td> <td>    0.010</td> <td>  -19.192</td> <td> 0.000</td> <td>   -0.210</td> <td>   -0.171</td>\n",
              "</tr>\n",
              "<tr>\n",
              "  <th>loan</th>     <td>   -0.0730</td> <td>    0.014</td> <td>   -5.394</td> <td> 0.000</td> <td>   -0.099</td> <td>   -0.046</td>\n",
              "</tr>\n",
              "<tr>\n",
              "  <th>contact</th>  <td>   -0.0618</td> <td>    0.014</td> <td>   -4.346</td> <td> 0.000</td> <td>   -0.090</td> <td>   -0.034</td>\n",
              "</tr>\n",
              "<tr>\n",
              "  <th>poutcome</th> <td>    0.1873</td> <td>    0.006</td> <td>   30.507</td> <td> 0.000</td> <td>    0.175</td> <td>    0.199</td>\n",
              "</tr>\n",
              "</table>\n",
              "<table class=\"simpletable\">\n",
              "<tr>\n",
              "  <th>Omnibus:</th>       <td>750.000</td> <th>  Durbin-Watson:     </th> <td>   2.039</td> \n",
              "</tr>\n",
              "<tr>\n",
              "  <th>Prob(Omnibus):</th> <td> 0.000</td>  <th>  Jarque-Bera (JB):  </th> <td>1028.279</td> \n",
              "</tr>\n",
              "<tr>\n",
              "  <th>Skew:</th>          <td> 0.954</td>  <th>  Prob(JB):          </th> <td>5.15e-224</td>\n",
              "</tr>\n",
              "<tr>\n",
              "  <th>Kurtosis:</th>      <td> 3.306</td>  <th>  Cond. No.          </th> <td>    16.9</td> \n",
              "</tr>\n",
              "</table><br/><br/>Notes:<br/>[1] Standard Errors assume that the covariance matrix of the errors is correctly specified."
            ],
            "text/plain": [
              "<class 'statsmodels.iolib.summary.Summary'>\n",
              "\"\"\"\n",
              "                            OLS Regression Results                            \n",
              "==============================================================================\n",
              "Dep. Variable:               response   R-squared:                       0.223\n",
              "Model:                            OLS   Adj. R-squared:                  0.222\n",
              "Method:                 Least Squares   F-statistic:                     378.4\n",
              "Date:                Fri, 12 Nov 2021   Prob (F-statistic):               0.00\n",
              "Time:                        20:52:51   Log-Likelihood:                -2842.3\n",
              "No. Observations:                6605   AIC:                             5697.\n",
              "Df Residuals:                    6599   BIC:                             5737.\n",
              "Df Model:                           5                                         \n",
              "Covariance Type:            nonrobust                                         \n",
              "==============================================================================\n",
              "                 coef    std err          t      P>|t|      [0.025      0.975]\n",
              "------------------------------------------------------------------------------\n",
              "const          0.2556      0.010     26.881      0.000       0.237       0.274\n",
              "default       -0.0629      0.056     -1.127      0.260      -0.172       0.047\n",
              "housing       -0.1904      0.010    -19.192      0.000      -0.210      -0.171\n",
              "loan          -0.0730      0.014     -5.394      0.000      -0.099      -0.046\n",
              "contact       -0.0618      0.014     -4.346      0.000      -0.090      -0.034\n",
              "poutcome       0.1873      0.006     30.507      0.000       0.175       0.199\n",
              "==============================================================================\n",
              "Omnibus:                      750.000   Durbin-Watson:                   2.039\n",
              "Prob(Omnibus):                  0.000   Jarque-Bera (JB):             1028.279\n",
              "Skew:                           0.954   Prob(JB):                    5.15e-224\n",
              "Kurtosis:                       3.306   Cond. No.                         16.9\n",
              "==============================================================================\n",
              "\n",
              "Notes:\n",
              "[1] Standard Errors assume that the covariance matrix of the errors is correctly specified.\n",
              "\"\"\""
            ]
          },
          "execution_count": 67,
          "metadata": {},
          "output_type": "execute_result"
        }
      ],
      "source": [
        "Logreg.summary()"
      ]
    },
    {
      "cell_type": "markdown",
      "id": "e52d1309",
      "metadata": {
        "id": "e52d1309"
      },
      "source": [
        ">.\n",
        "\n",
        "#### Variance inflation factor"
      ]
    },
    {
      "cell_type": "code",
      "execution_count": null,
      "id": "8529f116",
      "metadata": {
        "id": "8529f116"
      },
      "outputs": [],
      "source": [
        "from statsmodels.stats.outliers_influence import variance_inflation_factor"
      ]
    },
    {
      "cell_type": "code",
      "execution_count": null,
      "id": "594993ee",
      "metadata": {
        "scrolled": true,
        "id": "594993ee",
        "outputId": "e62fb4c2-12a6-48f5-ee8a-b11c303adf2c"
      },
      "outputs": [
        {
          "data": {
            "text/html": [
              "<div>\n",
              "<style scoped>\n",
              "    .dataframe tbody tr th:only-of-type {\n",
              "        vertical-align: middle;\n",
              "    }\n",
              "\n",
              "    .dataframe tbody tr th {\n",
              "        vertical-align: top;\n",
              "    }\n",
              "\n",
              "    .dataframe thead th {\n",
              "        text-align: right;\n",
              "    }\n",
              "</style>\n",
              "<table border=\"1\" class=\"dataframe\">\n",
              "  <thead>\n",
              "    <tr style=\"text-align: right;\">\n",
              "      <th></th>\n",
              "      <th>Features</th>\n",
              "      <th>VIF</th>\n",
              "    </tr>\n",
              "  </thead>\n",
              "  <tbody>\n",
              "    <tr>\n",
              "      <th>10</th>\n",
              "      <td>age</td>\n",
              "      <td>11.79</td>\n",
              "    </tr>\n",
              "    <tr>\n",
              "      <th>2</th>\n",
              "      <td>education</td>\n",
              "      <td>6.43</td>\n",
              "    </tr>\n",
              "    <tr>\n",
              "      <th>3</th>\n",
              "      <td>targeted</td>\n",
              "      <td>6.43</td>\n",
              "    </tr>\n",
              "    <tr>\n",
              "      <th>11</th>\n",
              "      <td>salary</td>\n",
              "      <td>5.38</td>\n",
              "    </tr>\n",
              "    <tr>\n",
              "      <th>16</th>\n",
              "      <td>pdays</td>\n",
              "      <td>5.21</td>\n",
              "    </tr>\n",
              "    <tr>\n",
              "      <th>1</th>\n",
              "      <td>marital</td>\n",
              "      <td>4.35</td>\n",
              "    </tr>\n",
              "    <tr>\n",
              "      <th>13</th>\n",
              "      <td>day</td>\n",
              "      <td>4.10</td>\n",
              "    </tr>\n",
              "    <tr>\n",
              "      <th>8</th>\n",
              "      <td>month</td>\n",
              "      <td>3.60</td>\n",
              "    </tr>\n",
              "    <tr>\n",
              "      <th>5</th>\n",
              "      <td>housing</td>\n",
              "      <td>3.14</td>\n",
              "    </tr>\n",
              "    <tr>\n",
              "      <th>15</th>\n",
              "      <td>campaign</td>\n",
              "      <td>2.87</td>\n",
              "    </tr>\n",
              "    <tr>\n",
              "      <th>0</th>\n",
              "      <td>job</td>\n",
              "      <td>2.85</td>\n",
              "    </tr>\n",
              "    <tr>\n",
              "      <th>14</th>\n",
              "      <td>duration</td>\n",
              "      <td>2.26</td>\n",
              "    </tr>\n",
              "    <tr>\n",
              "      <th>17</th>\n",
              "      <td>previous</td>\n",
              "      <td>1.91</td>\n",
              "    </tr>\n",
              "    <tr>\n",
              "      <th>9</th>\n",
              "      <td>poutcome</td>\n",
              "      <td>1.76</td>\n",
              "    </tr>\n",
              "    <tr>\n",
              "      <th>12</th>\n",
              "      <td>balance</td>\n",
              "      <td>1.30</td>\n",
              "    </tr>\n",
              "    <tr>\n",
              "      <th>6</th>\n",
              "      <td>loan</td>\n",
              "      <td>1.20</td>\n",
              "    </tr>\n",
              "    <tr>\n",
              "      <th>7</th>\n",
              "      <td>contact</td>\n",
              "      <td>1.15</td>\n",
              "    </tr>\n",
              "    <tr>\n",
              "      <th>4</th>\n",
              "      <td>default</td>\n",
              "      <td>1.02</td>\n",
              "    </tr>\n",
              "  </tbody>\n",
              "</table>\n",
              "</div>"
            ],
            "text/plain": [
              "     Features    VIF\n",
              "10        age  11.79\n",
              "2   education   6.43\n",
              "3    targeted   6.43\n",
              "11     salary   5.38\n",
              "16      pdays   5.21\n",
              "1     marital   4.35\n",
              "13        day   4.10\n",
              "8       month   3.60\n",
              "5     housing   3.14\n",
              "15   campaign   2.87\n",
              "0         job   2.85\n",
              "14   duration   2.26\n",
              "17   previous   1.91\n",
              "9    poutcome   1.76\n",
              "12    balance   1.30\n",
              "6        loan   1.20\n",
              "7     contact   1.15\n",
              "4     default   1.02"
            ]
          },
          "execution_count": 69,
          "metadata": {},
          "output_type": "execute_result"
        }
      ],
      "source": [
        "vif = pd.DataFrame()\n",
        "vif['Features'] = X_train.columns\n",
        "vif['VIF'] = [variance_inflation_factor(X_train.values, i) for i in range(X_train.shape[1])]\n",
        "vif['VIF'] = round(vif['VIF'], 2)\n",
        "vif = vif.sort_values(by = \"VIF\", ascending = False)\n",
        "vif"
      ]
    },
    {
      "cell_type": "markdown",
      "id": "08254fbb",
      "metadata": {
        "id": "08254fbb"
      },
      "source": [
        "#### Housing, loan, default, poutcome are important features from logistic regression model"
      ]
    },
    {
      "cell_type": "markdown",
      "id": "fd8c3a2d",
      "metadata": {
        "id": "fd8c3a2d"
      },
      "source": [
        "> Random Forest"
      ]
    },
    {
      "cell_type": "code",
      "execution_count": null,
      "id": "67ce0fcc",
      "metadata": {
        "id": "67ce0fcc"
      },
      "outputs": [],
      "source": [
        "from sklearn.ensemble import RandomForestClassifier"
      ]
    },
    {
      "cell_type": "code",
      "execution_count": null,
      "id": "22b53cc5",
      "metadata": {
        "id": "22b53cc5"
      },
      "outputs": [],
      "source": [
        "rfc = RandomForestClassifier(max_depth=5, random_state=42,max_leaf_nodes=50)"
      ]
    },
    {
      "cell_type": "code",
      "execution_count": null,
      "id": "8500095b",
      "metadata": {
        "id": "8500095b",
        "outputId": "fd20d7b2-f031-495d-9954-39e025acf432"
      },
      "outputs": [
        {
          "data": {
            "text/plain": [
              "RandomForestClassifier(max_depth=5, max_leaf_nodes=50, random_state=42)"
            ]
          },
          "execution_count": 72,
          "metadata": {},
          "output_type": "execute_result"
        }
      ],
      "source": [
        "rfc.fit(X_train,y_train)"
      ]
    },
    {
      "cell_type": "code",
      "execution_count": null,
      "id": "66f527b4",
      "metadata": {
        "id": "66f527b4",
        "outputId": "88735bb6-5f2b-4701-a992-902b5176d77b"
      },
      "outputs": [
        {
          "data": {
            "text/plain": [
              "0.8392127176381529"
            ]
          },
          "execution_count": 75,
          "metadata": {},
          "output_type": "execute_result"
        }
      ],
      "source": [
        "score= cross_val_score(rfc,X_train,y_train, cv=5)\n",
        "np.mean(score)"
      ]
    },
    {
      "cell_type": "code",
      "execution_count": null,
      "id": "06d61ccf",
      "metadata": {
        "id": "06d61ccf"
      },
      "outputs": [],
      "source": [
        "y_predict = rfc.predict(X_test)"
      ]
    },
    {
      "cell_type": "code",
      "execution_count": null,
      "id": "f8edd53b",
      "metadata": {
        "id": "f8edd53b",
        "outputId": "4710c1be-e114-43dc-e3a3-90f836dcfe1c"
      },
      "outputs": [
        {
          "name": "stdout",
          "output_type": "stream",
          "text": [
            "              precision    recall  f1-score   support\n",
            "\n",
            "           0       0.86      0.97      0.91      1279\n",
            "           1       0.80      0.45      0.57       373\n",
            "\n",
            "    accuracy                           0.85      1652\n",
            "   macro avg       0.83      0.71      0.74      1652\n",
            "weighted avg       0.84      0.85      0.83      1652\n",
            "\n"
          ]
        }
      ],
      "source": [
        "print(classification_report(y_test, y_predict))"
      ]
    },
    {
      "cell_type": "code",
      "execution_count": null,
      "id": "957d93b3",
      "metadata": {
        "id": "957d93b3",
        "outputId": "9ce977f4-75e0-4b50-dcc4-d05c6d714814"
      },
      "outputs": [
        {
          "data": {
            "text/plain": [
              "0.5728987993138936"
            ]
          },
          "execution_count": 78,
          "metadata": {},
          "output_type": "execute_result"
        }
      ],
      "source": [
        "f1_score(y_test,y_predict)"
      ]
    },
    {
      "cell_type": "code",
      "execution_count": null,
      "id": "d26175f2",
      "metadata": {
        "scrolled": true,
        "id": "d26175f2",
        "outputId": "c6bc6a41-377b-4cfc-9153-27a3961b722f"
      },
      "outputs": [
        {
          "data": {
            "text/plain": [
              "array([[1236,   43],\n",
              "       [ 206,  167]], dtype=int64)"
            ]
          },
          "execution_count": 79,
          "metadata": {},
          "output_type": "execute_result"
        }
      ],
      "source": [
        "confusion_matrix(y_test,y_predict)"
      ]
    },
    {
      "cell_type": "code",
      "execution_count": null,
      "id": "8f5452cc",
      "metadata": {
        "id": "8f5452cc"
      },
      "outputs": [],
      "source": [
        "from sklearn.metrics import roc_auc_score"
      ]
    },
    {
      "cell_type": "code",
      "execution_count": null,
      "id": "39dc4334",
      "metadata": {
        "scrolled": true,
        "id": "39dc4334",
        "outputId": "2dcea039-d0e7-4e8d-b3e9-d7c542547239"
      },
      "outputs": [
        {
          "data": {
            "text/plain": [
              "0.7070505819937242"
            ]
          },
          "execution_count": 82,
          "metadata": {},
          "output_type": "execute_result"
        }
      ],
      "source": [
        "roc_auc_score(y_test,y_predict)"
      ]
    },
    {
      "cell_type": "markdown",
      "id": "b6d166c4",
      "metadata": {
        "id": "b6d166c4"
      },
      "source": [
        ">Recursive Feature Elimination"
      ]
    },
    {
      "cell_type": "code",
      "execution_count": null,
      "id": "b4110d0e",
      "metadata": {
        "id": "b4110d0e"
      },
      "outputs": [],
      "source": [
        "from sklearn.feature_selection import RFE"
      ]
    },
    {
      "cell_type": "code",
      "execution_count": null,
      "id": "345525f0",
      "metadata": {
        "id": "345525f0",
        "outputId": "67ed34c6-4ba9-42dc-de95-3edb5dce9b00"
      },
      "outputs": [
        {
          "data": {
            "text/plain": [
              "RFE(estimator=RandomForestClassifier(max_depth=5, max_leaf_nodes=50,\n",
              "                                     random_state=42),\n",
              "    n_features_to_select=5)"
            ]
          },
          "execution_count": 84,
          "metadata": {},
          "output_type": "execute_result"
        }
      ],
      "source": [
        "rfe1 = RFE(rfc, 5)\n",
        "rfe1.fit(X_train,y_train)"
      ]
    },
    {
      "cell_type": "code",
      "execution_count": null,
      "id": "920ea58e",
      "metadata": {
        "scrolled": false,
        "id": "920ea58e",
        "outputId": "cffc25dd-e3e9-4759-d2d1-86e169cedf42"
      },
      "outputs": [
        {
          "data": {
            "text/plain": [
              "array([False, False, False, False, False,  True, False, False,  True,\n",
              "        True, False, False, False, False,  True, False,  True, False])"
            ]
          },
          "execution_count": 85,
          "metadata": {},
          "output_type": "execute_result"
        }
      ],
      "source": [
        "rfe1.support_"
      ]
    },
    {
      "cell_type": "code",
      "execution_count": null,
      "id": "c5ec271d",
      "metadata": {
        "scrolled": true,
        "id": "c5ec271d",
        "outputId": "ff8b009b-e8da-419f-ad41-88e183ebbf2a"
      },
      "outputs": [
        {
          "data": {
            "text/plain": [
              "Index(['housing', 'month', 'poutcome', 'duration', 'pdays'], dtype='object')"
            ]
          },
          "execution_count": 86,
          "metadata": {},
          "output_type": "execute_result"
        }
      ],
      "source": [
        "X_train.columns[rfe1.support_]"
      ]
    },
    {
      "cell_type": "code",
      "execution_count": null,
      "id": "5dac5801",
      "metadata": {
        "id": "5dac5801"
      },
      "outputs": [],
      "source": [
        "cols = X_train.columns[rfe1.support_]"
      ]
    },
    {
      "cell_type": "code",
      "execution_count": null,
      "id": "26b95448",
      "metadata": {
        "scrolled": true,
        "id": "26b95448",
        "outputId": "a14c6e58-421d-46e0-f501-bbe15c257c69"
      },
      "outputs": [
        {
          "data": {
            "text/plain": [
              "RandomForestClassifier(max_depth=5, max_leaf_nodes=50, random_state=42)"
            ]
          },
          "execution_count": 88,
          "metadata": {},
          "output_type": "execute_result"
        }
      ],
      "source": [
        "rfc.fit(X_train[cols],y_train)"
      ]
    },
    {
      "cell_type": "code",
      "execution_count": null,
      "id": "1e53926f",
      "metadata": {
        "id": "1e53926f"
      },
      "outputs": [],
      "source": [
        "y_pred3 = rfc.predict(X_test[cols])"
      ]
    },
    {
      "cell_type": "code",
      "execution_count": null,
      "id": "b48e8687",
      "metadata": {
        "scrolled": true,
        "id": "b48e8687",
        "outputId": "724c8817-b49b-4c98-f1e7-91b0ebeef448"
      },
      "outputs": [
        {
          "data": {
            "text/plain": [
              "0.631911532385466"
            ]
          },
          "execution_count": 90,
          "metadata": {},
          "output_type": "execute_result"
        }
      ],
      "source": [
        "f1_score(y_pred3,y_test)"
      ]
    },
    {
      "cell_type": "code",
      "execution_count": null,
      "id": "432e4892",
      "metadata": {
        "scrolled": true,
        "id": "432e4892",
        "outputId": "82935516-0a90-4eae-cb70-3f43303ee767"
      },
      "outputs": [
        {
          "data": {
            "text/plain": [
              "array([[1219,  173],\n",
              "       [  60,  200]], dtype=int64)"
            ]
          },
          "execution_count": 91,
          "metadata": {},
          "output_type": "execute_result"
        }
      ],
      "source": [
        "confusion_matrix(y_pred3,y_test)"
      ]
    },
    {
      "cell_type": "markdown",
      "id": "f4319872",
      "metadata": {
        "id": "f4319872"
      },
      "source": [
        "### Housing, month, pdays, poutcome, duration are important features from Random forest"
      ]
    }
  ],
  "metadata": {
    "language_info": {
      "name": "python"
    },
    "colab": {
      "name": "BankMarketingPrediction.ipynb",
      "provenance": []
    },
    "kernelspec": {
      "name": "python3",
      "display_name": "Python 3"
    }
  },
  "nbformat": 4,
  "nbformat_minor": 5
}